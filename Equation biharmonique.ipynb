{
 "cells": [
  {
   "cell_type": "markdown",
   "metadata": {},
   "source": [
    "### Relax and hold steady\n",
    "\n",
    "***Le but de ce notebook est d'implémenter le flux de Stokes dans une cavité carrée, en résolvant une équation biharmonique.***"
   ]
  },
  {
   "cell_type": "markdown",
   "metadata": {},
   "source": [
    "Le flux de Stokes est très pratique, car il permet de simplifier l'équation de Navier-Stokes en éliminant la non-linéarité. Après un changement d'échelle, l'équation de Navier-Stokes s'écrit:\n",
    "\n",
    "\\begin{equation}\n",
    "Re \\left(\\frac{\\partial u^*}{\\partial t} + u^* \\cdot \\nabla u^* \\right) = -\\nabla p^* + \\nabla^2 u^*\n",
    "\\end{equation}\n",
    " Dans le flux de Stokes, on suppose que le nombre de Reynolds tend vers zero, ce qui va simplifier cette équation.Prenons le rotational après simplification:\n",
    "\\begin{equation}\n",
    "\\nabla ^2 \\omega = 0\n",
    "\\end{equation}\n",
    "\n",
    "où $\\nabla \\times u = \\omega$ est la vorticité.  \n",
    "\n",
    "Regardons ce qu'il en est de la fonction de \"stream\":\n",
    "\n",
    "\\begin{equation}\n",
    "u = \\frac{\\partial \\psi}{\\partial y} \\text{   and   } v = - \\frac{\\partial \\psi}{\\partial x}\n",
    "\\end{equation}\n",
    "\n",
    "et\n",
    "\n",
    "\\begin{equation}\n",
    "\\omega = \\frac{\\partial v}{\\partial x} - \\frac{\\partial u}{\\partial y}\n",
    "\\end{equation}\n",
    " \n",
    "Finalement en combinant les trois équations, on obtient: \n",
    "\n",
    "\\begin{equation}\n",
    "\\nabla^4 \\psi= 0\n",
    "\\end{equation}\n",
    " "
   ]
  },
  {
   "cell_type": "markdown",
   "metadata": {},
   "source": [
    "Il nous font donc discrétiser cette équation, pour cela nous allons faire une discrétisation centrale finie:\n",
    "*Wikipedia (https://fr.wikipedia.org/wiki/%C3%89quation_biharmonique)*\n",
    "\n",
    "$$\\nabla ^4 \\psi = \\frac{\\partial^4 \\psi}{\\partial x^4}+\\frac{\\partial^4 \\psi}{\\partial y^4}+2\\frac{\\partial^4 \\psi}{\\partial x^2 \\partial y^2}=0$$ \n",
    "\n",
    "\n",
    "\\begin{array}{rcccl}\n",
    "\\frac{\\partial^2\\frac{\\partial^2 \\psi}{\\partial x^2}}{\\partial x^2}& \\Rightarrow &\\frac{\\left(\\frac{\\partial^2 \\psi}{\\partial x^2} \\right)_{i+1,j}-2\\left(\\frac{\\partial^2 \\psi}{\\partial x^2} \\right)_{i,j}+\\left(\\frac{\\partial^2 \\psi}{\\partial x^2} \\right)_{i-1,j}}{\\Delta x^2}&=&\\frac{\\left(\\psi_{i+1,j}-2\\psi_{i,j}+\\psi_{i-1,j} \\right)_{i+1,j}-2\\left(\\psi_{i+1,j}-2\\psi_{i,j}+\\psi_{i-1,j} \\right)_{i,j}+\\left(\\psi_{i+1,j}-2\\psi_{i,j}+\\psi_{i-1,j} \\right)_{i-1,j}}{\\Delta x^4}\\\\\n",
    "& & &=&\\frac{\\psi_{i+2,j}-2\\psi_{i+1,j}+\\psi_{i,j}-2(\\psi_{i+1,j}-2\\psi_{i,j}+\\psi_{i-1,j})+\\psi_{i,j}-2\\psi_{i-1,j}+\\psi_{i-2,j}}{\\Delta x^4}\n",
    "\\end{array}\n",
    "\n",
    "En procédans de même pour les deux autres termes et en considérans que $\\Delta x= \\Delta y$, on obtien finalement:\n",
    "\n",
    "$$\\psi_{i,j}^k = \\frac{1}{20}\\left( 8(\\psi_{i+1,j}^k+\\psi_{i,j+1}^k+\\psi_{i-1,j}^k+\\psi_{i,j-1}^k)-2(\\psi_{i+1,j-1}^k+\\psi_{i+1,j+1}^k+\\psi_{i-1,j-1}^k)-(\\psi_{i+2,j}^k+\\psi_{i,j+2}^k+\\psi_{i-2,j}^k+\\psi_{i,j-2}^k)\\right)$$"
   ]
  },
  {
   "cell_type": "markdown",
   "metadata": {},
   "source": [
    "Nous allons en particulier nous intéresser au problème du *lid-driven cavity flow*, où notre carré possède un couvercle qui va se déplacer à vitesse constante $u = 1$. Et où il n'y a aucun fluide qui peut sortir. Nous allons aussi supposer que toutes les surfaces, le couvercle compris, possède des conditions aux bords de \"no-slip\".\n",
    "\n",
    "Jettons un coup d'oeil aux conditions aux bords:\n",
    "\n",
    "<img src=\"./figures/drivencavity.svg\" width=400px>"
   ]
  },
  {
   "cell_type": "markdown",
   "metadata": {},
   "source": [
    "**Conditions aux bords**\n",
    "\n",
    "\n",
    "en $x=0$ on aura $\\frac{\\partial \\psi}{\\partial x}=0$\n",
    "On utilise la forwar 2nd order diff:\n",
    "$$\\frac{-3/2 \\psi_{i,j}+2\\psi_{i+1,j}-1/2\\psi_{i+2,j}}{\\Delta x}=0$$\n",
    "\n",
    "Or on sait aussi que $\\psi$ s'annule sur le bord et donc $\\psi_{i,j}=0$. $\\Rightarrow \\psi_{i+1,j}=1/4 \\psi_{i+2,j}$ \n",
    "\n",
    "en $x=l$ on devra utilisé la backwards diff:\n",
    "$$\\psi_{i-1,j}=1/4\\psi_{i-2,j}$$\n",
    "\n",
    "en $y=0$ on utilise la forward:\n",
    "\n",
    "$$\\psi_{i,j+1}=1/4\\psi_{i,j+2}$$\n",
    "\n",
    "en y=l on aura $\\frac{\\partial \\psi}{\\partial y}=1$\n",
    "$$-2\\frac{2\\psi_{i,-1}+1/2\\psi_{i,-2}}{\\Delta y}=1 \\Leftrightarrow \\psi_{i,l-1}=1/2(1/2\\psi_{i,l-2}-\\Delta y)$$"
   ]
  },
  {
   "cell_type": "code",
   "execution_count": 13,
   "metadata": {
    "collapsed": true
   },
   "outputs": [],
   "source": [
    "import numpy as np\n",
    "from matplotlib import pyplot\n",
    "%matplotlib inline\n",
    "from matplotlib import rcParams, cm\n",
    "rcParams['font.family'] = 'serif'\n",
    "rcParams['font.size'] = 16\n",
    "import matplotlib.animation as animation\n",
    "from IPython.display import HTML\n",
    "\n",
    "from laplace_helper import L2_rel_error"
   ]
  },
  {
   "cell_type": "code",
   "execution_count": 14,
   "metadata": {
    "collapsed": true
   },
   "outputs": [],
   "source": [
    "nx = 41\n",
    "ny = 41\n",
    "L  =  1\n",
    "H =  1\n",
    "\n",
    "dx  =  L/(nx-1)\n",
    "dy=  H/(ny-1)\n",
    "\n",
    "l2_norm = 1\n",
    "l1_target = 1e-8\n",
    "\n",
    "p_i = np.zeros((ny,nx))"
   ]
  },
  {
   "cell_type": "code",
   "execution_count": 15,
   "metadata": {
    "collapsed": true
   },
   "outputs": [],
   "source": [
    "#l=ind de la position en l\n",
    "l=int(L/dx)   #dx=dy\n",
    "delta_x=dx\n",
    "def border_cond(l, delta_x):\n",
    "    #neumann cond\n",
    "    psi[1:-1,1] = 1/4*psi[1:-1,2]     #en x = 0 (forward 2nd order)\n",
    "    psi[1:-1,l-1] = 1/4*psi[1:-1,l-2]   #en x = l\n",
    "    psi[1,1:-1]= 1/4*psi[2,1:-1]         #en y=0\n",
    "    psi[l-1,1:-1]=1/2*(1/2*psi[l-2,1:-1]-delta_x)     #en y = L"
   ]
  },
  {
   "cell_type": "code",
   "execution_count": 16,
   "metadata": {
    "collapsed": true
   },
   "outputs": [],
   "source": [
    "def conjugate_gradient_biharm(p, l, delta_x, dx, dy, l2_target):\n",
    "    '''Performs cg relaxation\n",
    "    Assumes Dirichlet boundary conditions p=0\n",
    "    \n",
    "    Parameters:\n",
    "    ----------\n",
    "    p : 2D array of floats\n",
    "        Initial guess\n",
    "    b : 2D array of floats\n",
    "        Source term\n",
    "    dx: float\n",
    "        Mesh spacing in x direction\n",
    "    dy: float\n",
    "        Mesh spacing in y direction\n",
    "    l2_target: float\n",
    "        exit criterion\n",
    "        \n",
    "    Returns:\n",
    "    -------\n",
    "    p: 2D array of float\n",
    "        Distribution after relaxation\n",
    "    '''\n",
    "    ny, nx = p.shape\n",
    "    r  = np.zeros((ny,nx)) # residual\n",
    "    Ad  = np.zeros((ny,nx)) # to store result of matrix multiplication \n",
    "    \n",
    "    l2_norm = 1\n",
    "    iterations = 0\n",
    "    l2_conv = []\n",
    "    \n",
    "    # Step-0 We compute the initial residual and \n",
    "    # the first search direction is just this residual\n",
    "\n",
    "    r[1:-2,1:-2]= 1/20 * (8*(p[1:-2,2:-1] + p[2:-1,1:-2] + p[1:-2,1:-2]+ p[1:-2, 1:-2])\\\n",
    "                          -2*(p[1:-2,2:-1]+p[2:-1,2:-1]+p[1:-2,1:-2])\\\n",
    "                          -(p[1:-2,3:]+p[3:,1:-2]+p[1:-2,:-3]+p[:-3,1:-2]))\n",
    "    \n",
    "    \n",
    "    #r[1:-1,1:-1] = 4*p[1:-1,1:-1] - \\\n",
    "        #p[1:-1,2:] - p[1:-1,:-2] - p[2:, 1:-1] - p[:-2, 1:-1]\n",
    "    d = r.copy()\n",
    "    rho = np.sum(r*r)\n",
    "    \n",
    "    Ad[1:-2,1:-2]= -1/20 * (8*(d[1:-2,2:-1] - d[2:-1,1:-2] - d[1:-2,1:-2]- \\\n",
    "                        d[1:-2, 1:-2])+2*(d[1:-2,2:-1]-d[2:-1,2:-1]-\\\n",
    "                        d[1:-2,1:-2])+(d[1:-2,3:]-d[3:,1:-2]-\\\n",
    "                        d[1:-2,:-3]-d[:-3,1:-2]))\n",
    "    \n",
    "    #Ad[1:-1,1:-1] = -4*d[1:-1,1:-1]+d[1:-1,2:]+d[1:-1,:-2]+\\\n",
    "        #d[2:, 1:-1] + d[:-2, 1:-1]\n",
    "    sigma = np.sum(d*Ad)\n",
    "    \n",
    "    # Iterations\n",
    "    while l2_norm > l2_target:\n",
    "\n",
    "        pk = p.copy()\n",
    "        rk = r.copy()\n",
    "        dk = d.copy()\n",
    "        \n",
    "        alpha = rho/sigma\n",
    "\n",
    "        p = pk + alpha*dk\n",
    "        r = rk- alpha*Ad\n",
    "        \n",
    "        rhop1 = np.sum(r*r)\n",
    "        beta = rhop1 / rho\n",
    "        rho = rhop1\n",
    "        \n",
    "        d = r + beta*dk\n",
    "        Ad[1:-2,1:-2]= -1/20 * (8*(d[1:-2,2:-1] - d[2:-1,1:-2] - d[1:-2,1:-2]- \\\n",
    "                        d[1:-2, 1:-2])+2*(d[1:-2,2:-1]-d[2:-1,2:-1]-\\\n",
    "                        d[1:-2,1:-2])+(d[1:-2,3:]-d[3:,1:-2]-\\\n",
    "                        d[1:-2,:-3]-d[:-3,1:-2]))\n",
    "       # Ad[1:-1,1:-1] = -4*d[1:-1,1:-1] + d[1:-1,2:] + d[1:-1,:-2] + \\\n",
    "         #   d[2:, 1:-1] + d[:-2, 1:-1]\n",
    "        sigma = np.sum(d*Ad)\n",
    "        \n",
    "        # BCs are automatically enforced\n",
    "        #p=border_cond(l, delta_x)\n",
    "        \n",
    "        l2_norm = L2_rel_error(pk,p)\n",
    "        iterations += 1\n",
    "        l2_conv.append(l2_norm)\n",
    "    \n",
    "    print('Number of CG iterations: {0:d}'.format(iterations))\n",
    "    return p, l2_conv     \n"
   ]
  },
  {
   "cell_type": "code",
   "execution_count": 17,
   "metadata": {},
   "outputs": [
    {
     "name": "stdout",
     "output_type": "stream",
     "text": [
      "Number of CG iterations: 1\n"
     ]
    },
    {
     "name": "stderr",
     "output_type": "stream",
     "text": [
      "/home/noemie/anaconda3/lib/python3.6/site-packages/ipykernel_launcher.py:55: RuntimeWarning: invalid value encountered in double_scalars\n"
     ]
    }
   ],
   "source": [
    "p, l2_conv = conjugate_gradient_biharm(p_i.copy(), l, delta_x, dx, dy, l1_target)\n",
    "#L2_rel_error(p,pan)"
   ]
  },
  {
   "cell_type": "code",
   "execution_count": null,
   "metadata": {
    "collapsed": true
   },
   "outputs": [],
   "source": []
  },
  {
   "cell_type": "code",
   "execution_count": null,
   "metadata": {
    "collapsed": true
   },
   "outputs": [],
   "source": []
  }
 ],
 "metadata": {
  "kernelspec": {
   "display_name": "Python 3",
   "language": "python",
   "name": "python3"
  },
  "language_info": {
   "codemirror_mode": {
    "name": "ipython",
    "version": 3
   },
   "file_extension": ".py",
   "mimetype": "text/x-python",
   "name": "python",
   "nbconvert_exporter": "python",
   "pygments_lexer": "ipython3",
   "version": "3.6.3"
  }
 },
 "nbformat": 4,
 "nbformat_minor": 2
}
