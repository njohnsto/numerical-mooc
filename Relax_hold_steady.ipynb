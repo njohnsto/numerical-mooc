{
 "cells": [
  {
   "cell_type": "code",
   "execution_count": 2,
   "metadata": {
    "collapsed": true
   },
   "outputs": [],
   "source": [
    "import numpy\n",
    "from matplotlib import pyplot\n",
    "%matplotlib inline\n",
    "from matplotlib import rcParams, cm\n",
    "rcParams['font.family'] = 'serif'\n",
    "rcParams['font.size'] = 16\n",
    "import matplotlib.animation as animation\n",
    "from IPython.display import HTML"
   ]
  },
  {
   "cell_type": "markdown",
   "metadata": {
    "collapsed": true
   },
   "source": [
    "second-order, central finite difference discretization of the biharmonic equation\n",
    "\n",
    "$$\\nabla^4 \\psi=\\nabla^2(\\nabla^2 \\psi)=0$$\n",
    " we know how to discrtisize:\n",
    "$$\\nabla^2 \\psi \\quad \\Rightarrow \\quad \\frac{\\psi_{i+1,j}^k-2\\psi_{i,j}^k+\\psi_{i-1,j}^k}{\\Delta x^2}+\\frac{\\psi_{i,j+1}^k-2\\psi_{i,j}^k+\\psi_{i,j-1}^k}{\\Delta y^2}$$\n",
    "\n",
    "Now let's discretisize a second time term by term for the $x$ variable ($y$ is going to be done the same way):\n",
    "\n",
    "$$\\nabla^2 \\left( \\frac{\\psi_{i+1,j}^k-2\\psi_{i,j}^k+\\psi_{i-1,j}^k}{\\Delta x^2}+\\frac{\\psi_{i,j+1}^k-2\\psi_{i,j}^k+\\psi_{i,j-1}^k}{\\Delta y^2} \\right)=0 $$\n",
    "$$\\nabla^2 \\left( \\frac{\\psi_{i+1,j}^k}{\\Delta x^2} \\right) -2 \\nabla^2 \\left(\\frac{ \\psi_{i,j}^k}{\\Delta x^2} \\right) + \\nabla^2 \\left( \\frac{ \\psi_{i-1,j}^k}{\\Delta x^2} \\right)$$\n",
    "Let's look at it term by term, and let's rename the old index $i'$ and $j'$, where $i'=i \\pm 1$ or $i'=i$ (same for $j$):\n",
    "$$ \\nabla^2 \\left(\\frac{\\psi_{i+1,j}^k}{\\Delta x^2} \\right)= \\frac{\\partial^2 (\\frac{\\psi_{i+1,j}^{k}}{\\Delta x^2})}{\\partial x^2}+\\frac{\\partial^2 (\\frac{\\psi_{i+1,j}^{k}}{\\Delta x^2})}{\\partial y^2}=\\frac{\\psi_{i'+1,j'}^{k'}-2\\psi_{i',j'}^{k'}+\\psi_{i'-1,j'}^{k'}}{\\Delta x^4}+\\frac{\\psi_{i',j'+1}^{k'}-2\\psi_{i',j'}^{k'}+\\psi_{i',j'-1}^{k'}}{\\Delta x^2 \\Delta y^2}$$\n",
    "$$=\\frac{\\psi_{i+2,j}^k-2\\psi_{i+1,j}^k+\\psi_{i,j}^k}{\\Delta x^4}+\\frac{\\psi_{i+1,j+1}^k-2\\psi_{i+1,j}^k+\\psi_{i+1,j-1}^k}{\\Delta x^2 \\Delta y^2}$$"
   ]
  },
  {
   "cell_type": "markdown",
   "metadata": {},
   "source": [
    "$$-2 \\nabla^2 \\left(\\frac{ \\psi_{i,j}^k}{\\Delta x^2} \\right)=-2\\frac{\\partial^2 (\\frac{\\psi_{i,j}^{k}}{\\Delta x^2})}{\\partial x^2}-2\\frac{\\partial^2 (\\frac{\\psi_{i,j}^{k}}{\\Delta x^2})}{\\partial y^2}=-2\\frac{\\psi_{i'+1,j'}^{k'}-2\\psi_{i',j'}^{k'}+\\psi_{i'-1,j'}^{k'}}{\\Delta x^4}-2\\frac{\\psi_{i',j'+1}^{k'}-2\\psi_{i',j'}^{k'}+\\psi_{i',j'-1}^{k'}}{\\Delta x^2 \\Delta y^2}$$\n",
    "$$=-2\\frac{\\psi_{i+1,j}^k-2\\psi_{i,j}^k+\\psi_{i-1,j}^k}{\\Delta x^4}-2\\frac{\\psi_{i,j+1}^k-2\\psi_{i,j}^k+\\psi_{i,j-1}^k}{\\Delta x^2 \\Delta y^2}$$"
   ]
  },
  {
   "cell_type": "markdown",
   "metadata": {},
   "source": [
    "$$ \\nabla^2 \\left( \\frac{ \\psi_{i-1,j}^k}{\\Delta x^2} \\right)=\\frac{\\partial^2 (\\frac{\\psi_{i-1,j}^{k}}{\\Delta x^2})}{\\partial x^2}+\\frac{\\partial^2 (\\frac{\\psi_{i-1,j}^{k}}{\\Delta x^2})}{\\partial y^2}=\\frac{\\psi_{i'+1,j'}^{k'}-2\\psi_{i',j'}^{k'}+\\psi_{i'-1,j'}^{k'}}{\\Delta x^4}+\\frac{\\psi_{i',j'+1}^{k'}-2\\psi_{i',j'}^{k'}+\\psi_{i',j'-1}^{k'}}{\\Delta x^2 \\Delta y^2}$$\n",
    "$$=\\frac{\\psi_{i,j}^k-2\\psi_{i-1,j}^k+\\psi_{i-2,j}^k}{\\Delta x^4}+\\frac{\\psi_{i-1,j+1}^k-2\\psi_{i-1,j}^k+\\psi_{i-1,j-1}^k}{\\Delta x^2 \\Delta y^2}$$"
   ]
  },
  {
   "cell_type": "markdown",
   "metadata": {},
   "source": [
    "terme en y:\n",
    "\n",
    "$$ \\nabla^2 \\left(\\frac{\\psi_{i,j+1}^k}{\\Delta y^2} \\right)=\\frac{\\psi_{i+1,j+1}^k-2\\psi_{i,j+1}^k+\\psi_{i-1,j+1}^k}{\\Delta x^2 \\Delta y^2}+\\frac{\\psi_{i,j+2}^k-2\\psi_{i,j+1}^k+\\psi_{i,j}^k}{\\Delta y^4}$$\n",
    "\n",
    "$$-2 \\nabla^2 \\left(\\frac{ \\psi_{i,j}^k}{\\Delta y^2} \\right)=-2\\frac{\\psi_{i+1,j}^k-2\\psi_{i,j}^k+\\psi_{i-1,j}^k}{\\Delta x^2 \\Delta y^2}-2\\frac{\\psi_{i,j+1}^k-2\\psi_{i,j}^k+\\psi_{i,j-1}^k}{ \\Delta y^4}$$\n",
    "\n",
    "$$ \\nabla^2 \\left( \\frac{ \\psi_{i,j-1}^k}{\\Delta y^2} \\right)=\\frac{\\psi_{i+1,j-1}^k-2\\psi_{i,j-1}^k+\\psi_{i-1,j-1}^k}{\\Delta x^2 \\Delta y^2}+\\frac{\\psi_{i,j}^k-2\\psi_{i,j-1}^k+\\psi_{i,j-2}^k}{\\Delta y^4}$$"
   ]
  },
  {
   "cell_type": "markdown",
   "metadata": {},
   "source": [
    "finalement on aura:\n",
    "\n",
    "$$\\nabla^4 \\psi \\Rightarrow \\frac{\\psi_{i+2,j}^k-4\\psi_{i+1,j}^k+6\\psi_{i,j}^k-4\\psi_{i-1,j}+\\psi_{i-2,j}^k}{\\Delta x^4}+\\frac{\\psi_{i,j+2}^k-4\\psi_{i,j+1}^k+6\\psi_{i,j}^k-4\\psi_{i,j-1}+\\psi_{i,j-2}^k}{\\Delta y^4}+2\\frac{\\psi_{i+1,j+1}^k-2\\psi_{i+1,j}^k+\\psi_{i+1,j-1}^k-2\\psi_{i,j+1}^2+4\\psi_{i,j}^k-2\\psi_{i,j-1}^k+\\psi_{i-1,j+1}^k-2\\psi_{i-1,j}^k+\\psi_{i-1,j-1}^k}{\\Delta x^2 \\Delta y^2}$$"
   ]
  },
  {
   "cell_type": "markdown",
   "metadata": {
    "collapsed": true
   },
   "source": [
    "En considérant que $\\Delta x = \\Delta y$:\n",
    "\n",
    "$$\\nabla ^4 \\psi= \\frac{1}{\\Delta x^4} \\left( \\psi_{i+2,j}^k + \\psi_{i,j+2}^k+2\\psi_{i+1,j+1}^k+2\\psi_{i+1,j-1}^k+2\\psi_{i+-,j+1}^k+2\\psi_{i-1,j-1}^k+\\psi_{i-2,j}^k+\\psi_{i,j-2}^k-8\\psi_{i+1,j}^k -8\\psi_{i,j+1}^k+20\\psi_{i,j}^k-8\\psi_{i-1,j}^k-8\\psi_{i,j-1}^k \\right)$$\n",
    "\n",
    "Finalement on aura:\n",
    "\n",
    "$$\\psi_{i,j}^k = \\frac{1}{20}\\left( 8(\\psi_{i+1,j}^k+\\psi_{i,j+1}^k+\\psi_{i-1,j}^k+\\psi_{i,j-1}^k)-2(\\psi_{i+1,j-1}^k+\\psi_{i+1,j+1}^k+\\psi_{i-1,j-1}^k)-(\\psi_{i+2,j}^k+\\psi_{i,j+2}^k+\\psi_{i-2,j}^k+\\psi_{i,j-2}^k)\\right)$$"
   ]
  },
  {
   "cell_type": "markdown",
   "metadata": {},
   "source": [
    "**condition aux bords**\n",
    "pour les coeff voir lien donné par Knaepen\n",
    "\n",
    "en $x=0$ on aura $\\frac{\\partial \\psi}{\\partial x}=0$\n",
    "On utilise la forwar 2nd order diff:\n",
    "$$\\frac{-3/2 \\psi_{i,j}+2\\psi_{i+1,j}-1/2\\psi_{i+2,j}}{\\Delta x}=0$$\n",
    "\n",
    "Or on sait aussi que $\\psi$ s'annule sur le bord et donc $\\psi_{i,j}=0$. $\\Rightarrow \\psi_{i+1,j}=1/4 \\psi_{i+2,j}$ \n",
    "\n",
    "en $x=l$ on devra utilisé la backwards diff:\n",
    "$$\\psi_{i-1,j}=1/4\\psi_{i-2,j}$$\n",
    "\n",
    "en $y=0$ on utilise la forward:\n",
    "\n",
    "$$\\psi_{i,j+1}=1/4\\psi_{i,j+2}$$\n",
    "\n",
    "en y=l on aura $\\frac{\\partial \\psi}{\\partial y}=1$\n",
    "$$-2\\frac{2\\psi_{i,-1}+1/2\\psi_{i,-2}}{\\Delta y}=1 \\Leftrightarrow \\psi_{i,l-1}=1/2(1/2\\psi_{i,l-2}-\\Delta x)$$"
   ]
  },
  {
   "cell_type": "code",
   "execution_count": 2,
   "metadata": {
    "collapsed": true
   },
   "outputs": [],
   "source": [
    "nx = 41\n",
    "ny = 41\n",
    "\n",
    "L = 1\n",
    "H = 1\n",
    "\n",
    "dx = l/(nx-1)\n",
    "dy = h/(ny-1)\n",
    "\n",
    "l2_norm = 1\n",
    "l1_target = 1e-8"
   ]
  },
  {
   "cell_type": "code",
   "execution_count": 3,
   "metadata": {},
   "outputs": [],
   "source": [
    "##cnd (je sais plus comment fct les crochets, genre si le dernier terme est compté au pas)\n",
    "\n",
    "#l=ind de la position en l\n",
    "l=int(L/dx)   #dx=dy\n",
    "\n",
    "def border_cond(l, delta_x):\n",
    "    #neumann cond\n",
    "    psi[1:-1,1] = 1/4*psi[1:-1,2]     #en x = 0 (forward 2nd order)\n",
    "    psi[1:-1,l-1] = 1/4*psi[1:-1,l-2]   #en x = l\n",
    "    psi[1,1:-1]= 1/4*psi[2,1:-1]         #en y=0\n",
    "    psi[l-1,1:-1]=1/2*(1/2*psi[l-2,i]-delta_x)     #en y = L\n",
    "    \n",
    "    "
   ]
  },
  {
   "cell_type": "code",
   "execution_count": 4,
   "metadata": {},
   "outputs": [],
   "source": [
    "## biharmonique equation\n",
    "\n",
    "def psi_diff(psi, l, delta_x, l2_norm, l1_target):\n",
    "    '''implementation de notre équation et des cond aux bords\n",
    "    \n",
    "    '''\n",
    "    while l2_norm > l1_target:\n",
    "        psin = psi.copy()\n",
    "        #j puis i\n",
    "        psi[1:-1,-1]=1/20 * (8*(psin[1:-1,2:] + psin[2:,1:-1] + psin[1:-1,:-2]+ \\\n",
    "                        psin[:-2, 1:-1])-2*(psin[:-2,2:]+psin[2:,2:]+\\\n",
    "                        psin[:-2,:-2])-(psin[1:-1,3:]+psin[3:,1:-1]+\\\n",
    "                        psin[1:-1,:-3]+psin[:-3,1:-1]))\n",
    "        \n",
    "        psi = border_cond(l,delta_x)   #pas sur que ça marche\n",
    "        \n",
    "    return psi\n"
   ]
  },
  {
   "cell_type": "code",
   "execution_count": null,
   "metadata": {
    "collapsed": true
   },
   "outputs": [],
   "source": []
  }
 ],
 "metadata": {
  "kernelspec": {
   "display_name": "Python 3",
   "language": "python",
   "name": "python3"
  },
  "language_info": {
   "codemirror_mode": {
    "name": "ipython",
    "version": 3
   },
   "file_extension": ".py",
   "mimetype": "text/x-python",
   "name": "python",
   "nbconvert_exporter": "python",
   "pygments_lexer": "ipython3",
   "version": "3.6.3"
  }
 },
 "nbformat": 4,
 "nbformat_minor": 2
}
