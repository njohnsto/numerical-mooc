{
 "cells": [
  {
   "cell_type": "code",
   "execution_count": 1,
   "metadata": {
    "collapsed": true
   },
   "outputs": [],
   "source": [
    "import numpy as np\n",
    "from matplotlib import pyplot\n",
    "%matplotlib inline\n",
    "from matplotlib import rcParams, cm\n",
    "rcParams['font.family'] = 'serif'\n",
    "rcParams['font.size'] = 16\n",
    "import matplotlib.animation as animation\n",
    "from IPython.display import HTML\n",
    "\n",
    "from laplace_helper import L2_rel_error"
   ]
  },
  {
   "cell_type": "code",
   "execution_count": 17,
   "metadata": {},
   "outputs": [],
   "source": [
    "nx = 41\n",
    "ny = 41\n",
    "L  =  1\n",
    "H =  1\n",
    "\n",
    "dx  =  L/(nx-1)\n",
    "dy=  H/(ny-1)\n",
    "\n",
    "l1_norm = 1\n",
    "l1_target = 1e-8\n",
    "\n",
    "p_i = np.zeros((ny,nx))\n",
    "\n",
    "x = np.linspace(0,L,nx) \n",
    "y = np.linspace(0,H,ny) \n",
    "\n",
    "\n",
    "p_i[-2,2:-2]=1/2*(1/2*p_i[-3,2:-2]-dy)     #en y = L\n",
    "p_i[1,2:-2]= 1/4*p_i[2,2:-2]         #en y=0\n",
    "p_i[1:-1,1] = 1/4*p_i[1:-1,2]     #en x = 0 (forward 2nd order)\n",
    "p_i[1:-1,-2] = 1/4*p_i[1:-1,-3]   #en x = l"
   ]
  },
  {
   "cell_type": "code",
   "execution_count": 18,
   "metadata": {
    "collapsed": true
   },
   "outputs": [],
   "source": [
    "def L1norm(new, old):\n",
    "    norm = np.sum(np.abs(new-old))\n",
    "    return norm\n",
    "\n"
   ]
  },
  {
   "cell_type": "code",
   "execution_count": 24,
   "metadata": {
    "collapsed": true
   },
   "outputs": [],
   "source": [
    "def conjugate_gradient_biharm(p, dx, dy, l2_target):\n",
    "    '''Performs cg relaxation\n",
    "    Assumes Dirichlet boundary conditions p=0\n",
    "    \n",
    "    Parameters:\n",
    "    ----------\n",
    "    p : 2D array of floats\n",
    "        Initial guess\n",
    "    b : 2D array of floats\n",
    "        Source term\n",
    "    dx: float\n",
    "        Mesh spacing in x direction\n",
    "    dy: float\n",
    "        Mesh spacing in y direction\n",
    "    l2_target: float\n",
    "        exit criterion\n",
    "        \n",
    "    Returns:\n",
    "    -------\n",
    "    p: 2D array of float\n",
    "        Distribution after relaxation\n",
    "    '''\n",
    "    ny, nx = p.shape\n",
    "    r  = np.zeros((ny,nx)) # residual\n",
    "    Ad  = np.zeros((ny,nx)) # to store result of matrix multiplication Axd\n",
    "    \n",
    "    l1_norm = 1\n",
    "    iterations = 0\n",
    "    l2_conv = []\n",
    "    \n",
    "    # Step-0 We compute the initial residual and \n",
    "    # the first search direction is just this residual\n",
    "    r[2:-2,2:-2]= (1/dx**4)*(-20 *p[2:-2,2:-2]+ (8*(p[2:-2,3:-1] + p[3:-1,2:-2] + p[2:-2,1:-3]+ p[1:-3, 2:-2])\\\n",
    "                          -2*(p[1:-3,3:-1]+p[3:-1,1:-3]+p[3:-1,3:-1]+p[1:-3,1:-3])\\\n",
    "                          -(p[2:-2,4:]+p[4:,2:-2]+p[2:-2,:-4]+p[:-4,2:-2])))\n",
    "    \n",
    "\n",
    "    d = r.copy()    #d0=r0 (copie par secu)\n",
    "    rho = np.sum(r*r)  #multiplication scalaire \n",
    "    #matrice A x d\n",
    "    Ad[2:-2,2:-2]= -(1/dx**4)*(-20*d[2:-2,2:-2] + (8*(d[2:-2,3:-1] + d[3:-1,2:-2] + d[2:-2,1:-3]+ \\\n",
    "                        d[1:-3, 2:-2])+2*(-d[1:-3,3:-1]-d[3:-1,1:-3]-d[3:-1,3:-1]-\\\n",
    "                        d[1:-3,1:-3])+(-d[2:-2,4:]-d[4:,2:-2]-\\\n",
    "                        d[2:-2,:-4]-d[:-4,2:-2])))\n",
    "\n",
    "    sigma = np.sum(d*Ad)\n",
    "    #p=border_cond(l, dy)\n",
    "    # Iterations\n",
    "    while l1_norm > l2_target:\n",
    "\n",
    "        pk = p.copy()\n",
    "        rk = r.copy()\n",
    "        dk = d.copy()\n",
    "        \n",
    "        alpha = rho/sigma\n",
    "\n",
    "        p = pk + alpha*dk\n",
    "        r = rk- alpha*Ad\n",
    "        \n",
    "        #on les mets parce que: on def les cond avant la boucle, pas besoin de mettre avant le pk, par contre après\n",
    "        #on en aura besoin\n",
    "\n",
    "        p[0,:]=p[:,0]=p[-1,:]=p[:,-1]=0   #dirichlet\n",
    "        #cond de Neumann\n",
    "        \n",
    "        p[-2,2:-2]=1/2*(1/2*p[-3,2:-2]-dy)     #en y = L\n",
    "        p[1,2:-2]= 1/4*p[2,2:-2]         #en y=0\n",
    "        p[1:-1,1] = 1/4*p[1:-1,2]     #en x = 0 (forward 2nd order)\n",
    "        p[1:-1,-2] = 1/4*p[1:-1,-3]   #en x = l\n",
    "        \n",
    "        rhop1 = np.sum(r*r)\n",
    "        beta = rhop1 / rho\n",
    "        rho = rhop1\n",
    "        \n",
    "        d = r + beta*dk\n",
    "        Ad[2:-2,2:-2]= -(1/dx**4)*(-20*d[2:-2,2:-2] + (8*(d[2:-2,3:-1] + d[3:-1,2:-2] + d[2:-2,1:-3]+ \\\n",
    "                        d[1:-3, 2:-2])+2*(-d[1:-3,3:-1]-d[3:-1,1:-3]-d[3:-1,3:-1]-\\\n",
    "                        d[1:-3,1:-3])+(-d[2:-2,4:]-d[4:,2:-2]-\\\n",
    "                        d[2:-2,:-4]-d[:-4,2:-2])))\n",
    "       # Ad[1:-1,1:-1] = -4*d[1:-1,1:-1] + d[1:-1,2:] + d[1:-1,:-2] + \\\n",
    "         #   d[2:, 1:-1] + d[:-2, 1:-1]\n",
    "        sigma = np.sum(d*Ad)\n",
    "        \n",
    "\n",
    "        #p=border_cond(l, dy)\n",
    "        # BCs are automatically enforced\n",
    "        #p=border_cond(l, delta_x)\n",
    "        \n",
    "        l1_norm = L1norm(pk,p)\n",
    "        iterations += 1\n",
    "        l2_conv.append(l1_norm)\n",
    "    \n",
    "    print('Number of CG iterations: {0:d}'.format(iterations))\n",
    "    return p, l2_conv     \n"
   ]
  },
  {
   "cell_type": "code",
   "execution_count": 25,
   "metadata": {},
   "outputs": [
    {
     "name": "stdout",
     "output_type": "stream",
     "text": [
      "Number of CG iterations: 648\n"
     ]
    }
   ],
   "source": [
    "p, l2_conv = conjugate_gradient_biharm(p_i.copy(), dx, dy, l1_target)\n"
   ]
  },
  {
   "cell_type": "code",
   "execution_count": 22,
   "metadata": {},
   "outputs": [
    {
     "data": {
      "image/png": "[encoded data removed]",
      "text/plain": [
       "<matplotlib.figure.Figure at 0x7fcce3222208>"
      ]
     },
     "metadata": {},
     "output_type": "display_data"
    }
   ],
   "source": [
    "pyplot.figure(figsize=(10,10))\n",
    "pyplot.contourf(x,y,p,10,cmap=cm.viridis)\n",
    "pyplot.xlabel('$x$')\n",
    "pyplot.ylabel('$y$')\n",
    "pyplot.colorbar();"
   ]
  },
  {
   "cell_type": "code",
   "execution_count": 23,
   "metadata": {},
   "outputs": [
    {
     "name": "stdout",
     "output_type": "stream",
     "text": [
      "-0.004702625222216156 -0.01819644541556883 -0.038475318220838266 -0.050566282269552114\n"
     ]
    }
   ],
   "source": [
    "print(p[8,24],p[16,24],p[24,24],p[32,24])"
   ]
  },
  {
   "cell_type": "code",
   "execution_count": null,
   "metadata": {
    "collapsed": true
   },
   "outputs": [],
   "source": []
  }
 ],
 "metadata": {
  "kernelspec": {
   "display_name": "Python 3",
   "language": "python",
   "name": "python3"
  },
  "language_info": {
   "codemirror_mode": {
    "name": "ipython",
    "version": 3
   },
   "file_extension": ".py",
   "mimetype": "text/x-python",
   "name": "python",
   "nbconvert_exporter": "python",
   "pygments_lexer": "ipython3",
   "version": "3.6.3"
  }
 },
 "nbformat": 4,
 "nbformat_minor": 2
}
