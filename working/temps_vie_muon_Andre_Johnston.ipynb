{
 "cells": [
  {
   "cell_type": "markdown",
   "metadata": {},
   "source": [
    "## Temps de vie du muon"
   ]
  },
  {
   "cell_type": "markdown",
   "metadata": {},
   "source": [
    "### Simulation via la méthode de MonteCarlo"
   ]
  },
  {
   "cell_type": "markdown",
   "metadata": {},
   "source": [
    "Avant d'analyser nos données, nous avons commencé par faire une simulation de notre problème et nous avons pour cela généré aléatoirement des temps de vie.\n",
    "Une fois nos valeurs générées, nous avons implémenté une fonction qui a la forme attendue et qui va ajuster au mieux nos valeurs. Dans notre cas on s'attend à ce que la fonction de distribution de probabilité suit une loi exponentielle. "
   ]
  },
  {
   "cell_type": "markdown",
   "metadata": {},
   "source": [
    "$$ pdf = \\frac{k}{\\tau} e^{-t/\\tau}$$\n",
    "\n",
    "où $k/\\tau$ correspond au facteur de normalisation"
   ]
  },
  {
   "cell_type": "markdown",
   "metadata": {},
   "source": [
    "Il existe deux façons d'appliquer la simulation de MonteCarlo, on peut soit utiliser la méthode de *Hit & Miss* , soit la méthode de *Inverse Sampling*. Dans la méthode de *Hit & Miss*, parmi toutes nos valeurs générées on ne garde que celles qui se trouvent en dessous de la courbe attendue. Or comme dans notre cas on s'attend à avoir une exponentielle décroissante, on perderait beaucoup de temps à parcourir plus de 50% des valeurs qui seront un \"miss\"; c'est pourquoi on a utilisé la méthode de *Inverse Sampling*. Cette méthode utilise directement la fonction de répartition de nos données et utilise ses propriétés, mais pour cela il faut que la fonction soit inversible, ce qui est le cas de l'exponentielle. \n",
    "\n",
    "#### Inverse Sampling\n",
    "\n",
    "Soit une fonction de distribution exponentielle g: \n",
    "\\begin{array}{rlcl}\n",
    "&g(x) &=&\\frac{k}{\\tau}  e^{-x/\\tau} \\\\\n",
    "\\Rightarrow &g(x)dx&= &f(\\xi)d\\xi\n",
    "\\end{array}\n",
    "avec $\\xi=\\xi(x)$\n",
    "\n",
    "On choisit $\\xi$ tel qu'il soit réparti uniformémement entre 0 et 1, ainsi $f(\\xi)=1$.\n",
    "\n",
    "On a alors que $$g(x) = 1 \\frac{d\\xi}{dx}$$\n",
    "Or $$\\xi = G(x) => G^{-1}(\\xi) = x$$ \n",
    "\n",
    "$$=> g(x) = \\frac{dG(x)}{dx} => G(x) = \\int^x_0 g(y)dy$$\n",
    "Ainsi dans notre cas on aura, pour $\\xi = G(G^{-1}(\\xi))$:\n",
    "\n",
    "\\begin{array}{rlcl}\n",
    "&\\xi &=& \\int^{G^{-1}(\\xi)}_0 \\frac{k}{\\tau} e^{-x/\\tau}dx \\\\\n",
    "&\\xi &=& -k(e^{-G^{-1}(\\xi)/tau}-1)\\\\\n",
    "\\Rightarrow &G^{-1}(\\xi)&=& -\\tau \\ln(-\\xi+1)\n",
    "\\end{array}\n",
    "\n",
    "Et pour nous $x=G^{-1}(\\xi)$ corespondera aux différentes valeurs de temps."
   ]
  },
  {
   "cell_type": "code",
   "execution_count": 1,
   "metadata": {
    "collapsed": true
   },
   "outputs": [],
   "source": [
    "import numpy as np\n",
    "import scipy as sp\n",
    "\n",
    "%matplotlib inline \n",
    "import matplotlib.pyplot as plt"
   ]
  },
  {
   "cell_type": "markdown",
   "metadata": {},
   "source": [
    "Comme nous avons choisi de ne prendre nos données qu'à partir de $500 \\pm 4 ns$, afin d'éviter les starts-stops et que nous n'avons pas pris des valeurs au-dessus de $20\\mu s$, nous devrons aussi générer nos valeurs de $\\tau$ uniquement dans cette fenêtre de temps. D'après l'oscilloscope nous ne devrions pas avoir de valeurs au-dessus de $16.5 \\pm 0.4 \\mu s$, mais comme on l'a vu le TDC mesure toujours un temps légerement supérieur à celui de l'oscilloscope c'est pourquoi on prendra comme limite supérieur $20 \\mu s$."
   ]
  },
  {
   "cell_type": "code",
   "execution_count": 2,
   "metadata": {
    "collapsed": true
   },
   "outputs": [],
   "source": [
    "#début et fin de la fenêtre de temps\n",
    "\n",
    "t_start=500     #en ns car nos données seront en ns\n",
    "t_stop=20000    #en ns\n",
    "tau_v=2200      #temps de vie \"théorique\" en ns\n",
    "mc_events=10000   #nombre d'évenements que nous allons généré\n"
   ]
  },
  {
   "cell_type": "markdown",
   "metadata": {},
   "source": [
    "N.B. Toutes les valeurs de temps seront exprimées en $ns$ dans la suite du notebook."
   ]
  },
  {
   "cell_type": "code",
   "execution_count": 3,
   "metadata": {
    "collapsed": true
   },
   "outputs": [],
   "source": [
    "#definition d'une fonction exponentielle qcq (utile pour le fit)\n",
    "def exp_decay(x, k, t, y0):\n",
    "    return k * ((1/t) *np.exp(-x / t) + y0)\n",
    "\n",
    "#def de notre G^-1\n",
    "def inv(t):\n",
    "    return -tau_v*np.log(-t+1)\n",
    "\n",
    "#comme nous voudrons donner toute une série de t diff à notre fct, il faut la vectoriser\n",
    "vect_inv=np.vectorize(inv)"
   ]
  },
  {
   "cell_type": "code",
   "execution_count": 4,
   "metadata": {
    "collapsed": true
   },
   "outputs": [],
   "source": [
    "#on génère nos nombres \n",
    "rnd1 = np.random.rand(mc_events)"
   ]
  },
  {
   "cell_type": "code",
   "execution_count": 5,
   "metadata": {
    "collapsed": true
   },
   "outputs": [],
   "source": [
    "data=vect_inv(rnd1)  #on calcul nos x=tau\n",
    "index1=np.where((t_start<data) & (t_stop>data ))  #on se restreint pour mieux simuler les valeurs qu'on aura expérimentalement\n",
    "data1=data[index1]"
   ]
  },
  {
   "cell_type": "markdown",
   "metadata": {},
   "source": [
    "**Graphique des données générées aléatoirements**"
   ]
  },
  {
   "cell_type": "code",
   "execution_count": 6,
   "metadata": {},
   "outputs": [
    {
     "data": {
      "image/png": "[encoded data removed]",
      "text/plain": [
       "<matplotlib.figure.Figure at 0x1353e09bcf8>"
      ]
     },
     "metadata": {},
     "output_type": "display_data"
    }
   ],
   "source": [
    "fig2, ax2 = plt.subplots(figsize=(8,6))\n",
    "plt.grid()\n",
    "ax2.hist(data1, bins = 100, normed = True, label='histogram')\n",
    "ax2.set_xlabel(\"x\")\n",
    "ax2.set_ylabel(\"nombre d'évenements\")\n",
    "ax2.legend()\n",
    "plt.show()"
   ]
  },
  {
   "cell_type": "markdown",
   "metadata": {},
   "source": [
    "#### Maximum de vraisemblance\n",
    "\n",
    "Maintenant que nous avons des données, on aimerait trouver la meilleure estimation de nos données; c'est-à-dire la courbe esponentielle qui suit le mieux nos données. \n",
    "\n",
    "Pour cela nous avons décidé d'utiliser la méthode du maximum de vraisemblance. Cette méthode consiste à maximiser le produit des fonctions de distribution de probabilités de nos évenements:\n",
    "$$L = \\prod_{i=1}^N  pdf(evt_i)$$\n",
    "\n",
    "Afin de faciliter les calculs on prend le logarithme de cette fonction, ce qui nous permet de transformer le produit en une somme.\n",
    "\n",
    "Pour $pdf = f(t/\\tau)=\\frac{k}{\\tau} e^{-t/\\tau}$ on trouve la constante k par normalisation:\n",
    "\n",
    "$$\\int^{t_{max}}_{t_{min}} f(t/\\tau) dt =1 => k = \\frac{1}{(e^{-t_{min}/\\tau}-e^{-t_{max}/\\tau})}$$\n",
    "\n",
    "$$L^* = - \\ln(L) = N\\ln(\\tau) + N\\ln(e^{-t_{min}/\\tau}-e^{-t_{max}/\\tau})+1/\\tau \\sum^N_{i=1} t_i$$\n",
    "\n",
    "Comme il fallait maximiser $L$, il faudra minimiser $L^*$."
   ]
  },
  {
   "cell_type": "code",
   "execution_count": 7,
   "metadata": {
    "collapsed": true
   },
   "outputs": [],
   "source": [
    "n= len(index1[0])\n",
    "\n",
    "#définition de L_star\n",
    "#on itère sur le nombre de donnée pour calculer la somme du dernier terme de L_star\n",
    "def L_star(tau, t_start, t_stop):\n",
    "    S=0\n",
    "    for i in range(n):\n",
    "        if data1[i]>t_start and data1[i]<t_stop:\n",
    "            S=S+data1[i]\n",
    "    return n*np.log(tau)+n*np.log(np.exp(-t_start/tau)-np.exp(-t_stop/tau))+1/tau*S\n",
    "\n",
    "#on vectorise notre fonction\n",
    "L_vect=np.vectorize(L_star) "
   ]
  },
  {
   "cell_type": "code",
   "execution_count": 8,
   "metadata": {
    "collapsed": true
   },
   "outputs": [],
   "source": [
    "vect_tau=np.linspace(t_start,t_stop,1000)   #on crée un vecteur quelconque avec un tau qui est compris entre notre t_start et t_stop\n",
    "t_start_vect=t_start*np.ones_like(vect_tau)  #on vectorise t_start et t_stop pour pouvoir les donner comme arguments à L_vect\n",
    "t_stop_vect=t_stop*np.ones_like(vect_tau)\n",
    "L_vect2=L_vect(vect_tau, t_start_vect, t_stop_vect)   #on évalue notre L_star en tout ces vecteurs"
   ]
  },
  {
   "cell_type": "markdown",
   "metadata": {},
   "source": [
    "Maintenant qu'on a un vecteur avec toutes les valeurs de $L^*$ pour des $\\tau$ compris dans l'intervalle désiré, on peut trouver le $L^*$ minimum et ensuite trouver le $\\tau$ correspondant. On aura ainsi trouver le $\\tau$ qui minimise notre fonction, ce $\\tau$ correspondera au temps de vie du muon."
   ]
  },
  {
   "cell_type": "code",
   "execution_count": 9,
   "metadata": {},
   "outputs": [
    {
     "name": "stdout",
     "output_type": "stream",
     "text": [
      "2256.75675676 ns\n"
     ]
    }
   ],
   "source": [
    "L_min=min(L_vect2)\n",
    "def min_tau(L_vect2, L_min, vect_tau):\n",
    "    ind =0\n",
    "    for i in range(1000):         #on cherche l'indice associé à sa position\n",
    "        if (L_vect2[i]==L_min):\n",
    "            ind=i\n",
    "    tau_min=vect_tau[ind] \n",
    "    return tau_min\n",
    "\n",
    "\n",
    "print(min_tau(L_vect2, L_min, vect_tau), 'ns')"
   ]
  },
  {
   "cell_type": "markdown",
   "metadata": {},
   "source": [
    "Notre simulation nous donne donc un temps de vie très proche de $2.2 \\mu s$. (la valeur varie légèremenet à chaque compilation, étant donné que nos valeurs générées aléatoirements ne sont jamais exactement les mêmes.)\n",
    "\n",
    "**erreur sur les variables**\n",
    "\n",
    "Si on regarde notre L proche du minimum, sa fonction suivra une gaussiènne et donc, si on regarde notre courbe Likelihood, courbe de $L^*$ en fonction de $\\tau$, on remarque que celle-ci a une forme parabolique. Plaçons nous donc à une petite distance du minimum et regardons que vaut cette erreur.\n",
    "\n",
    "Soit $\\overline{\\theta}=\\theta_v = \\text{vrai valeur}$, $\\hat{\\theta}  = \\text{valeur estimée}$ et $\\sigma = \\text{erreur sur theta}$.\n",
    "\n",
    "On aura donc $$ L(\\hat{\\theta}) = \\frac{1}{\\sqrt{2\\pi}\\sigma}\n",
    "e^{-\\frac{(\\hat{\\theta}-\\overline{\\theta})^2}{\\sigma^2}}$$\n",
    "\n",
    "$$L^*=-\\ln{L(\\hat{\\theta})}=0.5\\ln{(2\\pi\\sigma^2)}+0.5\\frac{(\\hat{\\theta}-\\overline{\\theta})^2}{\\sigma^2}$$\n",
    "\n",
    "$$L^*_{min}(\\hat{\\theta}=\\overline{\\theta})=\\frac{1}{2}\\ln{(2\\pi\\sigma^2)}$$\n",
    "$$L^*(\\hat{\\theta}=\\overline{\\theta}+\\sigma)=L^*_{min}+\\frac{1}{2}$$\n",
    "On peut maintenant regarder notre courbe Likelihood, afin de mieux visualiser l'erreur sur les variables."
   ]
  },
  {
   "cell_type": "code",
   "execution_count": 10,
   "metadata": {},
   "outputs": [
    {
     "data": {
      "image/png": "[encoded data removed]",
      "text/plain": [
       "<matplotlib.figure.Figure at 0x1353a4d98d0>"
      ]
     },
     "metadata": {},
     "output_type": "display_data"
    }
   ],
   "source": [
    "fig3, ax3 = plt.subplots(figsize=(8,6))\n",
    "plt.grid()\n",
    "ax3.plot(vect_tau, L_vect2, '--', lw=1, label=\"Likelihood\")\n",
    "ax3.plot(min_tau(L_vect2, L_min, vect_tau), L_min,'o', ms=6)\n",
    "ax3.set_xlabel(\"tau\")\n",
    "ax3.set_ylabel(\"L_star\")\n",
    "ax3.legend()\n",
    "ax3.set_xlim(min_tau(L_vect2, L_min, vect_tau)-1000, min_tau(L_vect2, L_min, vect_tau)+1000)\n",
    "ax3.set_ylim(69000, 74000)\n",
    "plt.show()"
   ]
  },
  {
   "cell_type": "code",
   "execution_count": 11,
   "metadata": {
    "collapsed": true
   },
   "outputs": [],
   "source": [
    "#cette fonction nous permet de trouver la valeur de L_star la plus proche de L_min+1/2\n",
    "#la différence entre le tau minimal et le tau correspondant à ce nouveau L_star est l'erreur\n",
    "def t_demi(L_vect2,t_start, t_stop, L_min, vect_tau):\n",
    "    tau2=min_tau(L_vect2, L_min, vect_tau)\n",
    "    for i in range(1,10000):\n",
    "        tau2=tau2+0.1\n",
    "        if L_star(tau2,t_start,t_stop)>L_min+0.5:\n",
    "            break\n",
    "    return tau2"
   ]
  },
  {
   "cell_type": "code",
   "execution_count": 12,
   "metadata": {},
   "outputs": [
    {
     "name": "stdout",
     "output_type": "stream",
     "text": [
      "2276.65675676\n",
      "19.9\n"
     ]
    }
   ],
   "source": [
    "print(t_demi(L_vect2, t_start, t_stop, L_min, vect_tau))\n",
    "print(t_demi(L_vect2, t_start, t_stop, L_min, vect_tau)-min_tau(L_vect2, L_min, vect_tau))"
   ]
  },
  {
   "cell_type": "markdown",
   "metadata": {},
   "source": [
    "On aimerait maintenant voir sur un graphique si la courbe exponentielle est bien une bonne approximation de nos valeurs.\n",
    "Mais avant cela il nous faut déterminer notre constante de normalisation k.\n",
    "\n",
    "$$1=\\int^{t_{max}}_{t_{min}} \\frac{k}{\\tau}e^{-t/\\tau}dt$$\n",
    "\n",
    "$$k= \\frac{-1}{e^{-t_{max}/\\tau}-e^{-t_{min}/\\tau}}$$"
   ]
  },
  {
   "cell_type": "code",
   "execution_count": 13,
   "metadata": {
    "collapsed": true
   },
   "outputs": [],
   "source": [
    "def norm(t_start, t_stop, L_vect2):\n",
    "    k=-1/(np.exp(-t_stop/min_tau(L_vect2, L_min, vect_tau))-np.exp(-t_start/min_tau(L_vect2, L_min, vect_tau)))\n",
    "    return k"
   ]
  },
  {
   "cell_type": "code",
   "execution_count": 14,
   "metadata": {},
   "outputs": [
    {
     "data": {
      "image/png": "[encoded data removed]",
      "text/plain": [
       "<matplotlib.figure.Figure at 0x1353e9c5ef0>"
      ]
     },
     "metadata": {},
     "output_type": "display_data"
    }
   ],
   "source": [
    "fig2, ax2 = plt.subplots(figsize=(8,6))\n",
    "plt.grid()\n",
    "ax2.hist(data1,bins = 100,normed=True, label=\"Data\")\n",
    "x = np.arange(t_start, t_stop, 0.1)\n",
    "\n",
    "ax2.plot(x, exp_decay(x, norm(t_start, t_stop, L_vect2), t_demi(L_vect2, t_start, t_stop, L_min, vect_tau), 0), lw =2 , label=r\"Best fitted $\\tau$ = %.1f\"%t_demi(L_vect2, t_start, t_stop, L_min, vect_tau))\n",
    "\n",
    "ax2.set_xlabel(\"x\", fontsize=15)\n",
    "ax2.set_ylabel(\"counts\", fontsize=15)\n",
    "ax2.legend()\n",
    "plt.show()"
   ]
  },
  {
   "cell_type": "markdown",
   "metadata": {},
   "source": [
    "### Utilisation des données\n",
    "\n",
    "Maintenant que nous avons notre code pour trouver la courbe qui ajuste au mieu les données, on va pouvoir appliquer le tout à nos données expérimentales."
   ]
  },
  {
   "cell_type": "code",
   "execution_count": 15,
   "metadata": {
    "collapsed": true
   },
   "outputs": [],
   "source": [
    "#on a choisit une gamme de temps où on a le plus de chance de mesuré le temps de vie du muon\n",
    "t_min=600    #on commence un peu après pour éviter le premier barreau\n",
    "t_max=15000"
   ]
  },
  {
   "cell_type": "code",
   "execution_count": 16,
   "metadata": {
    "collapsed": true
   },
   "outputs": [],
   "source": [
    "#on importe nos données\n",
    "\n",
    "file = open(\"C:/Users/noemi/Desktop/Data_last.txt\")\n",
    "nbins = 0\n",
    "lines = file.readlines()\n",
    "hist = []\n",
    "for line in lines:\n",
    "    line = line.replace('\\r\\n','')\n",
    "    line = line.replace('\\t','')\n",
    "    try:\n",
    "        hist.append(float(line.replace('\\n', '')))\n",
    "        nbins += 1\n",
    "    except Exception as e:\n",
    "        print (e)\n",
    "        print (r\"Line number: \\\"%s\\\" cannot be converted to integer\" %(line))\n",
    "        \n",
    "file.close()"
   ]
  },
  {
   "cell_type": "markdown",
   "metadata": {},
   "source": [
    "Comme nos données se trouvent sous forme d'une liste, alors que nos codes s'appliquent à des vecteurs, on transforme notre liste en vecteur.\n",
    "\n",
    "D'autre part il se peut qu'on ait des données négatives, or celle-ci vont fausser notre histogramme, on doit donc restreindre les données utilisées aux valeurs positives.\n",
    "\n",
    "(Nous n'avons pas réussi à trouver pourquoi il y avait ces valeurs négatives)"
   ]
  },
  {
   "cell_type": "markdown",
   "metadata": {},
   "source": [
    "En définissant notre fonction L_star, nous lui avons donné comme arguments (tau, t_start, t_stop), afin d'avoir une fonction la plus général possible il aurait était idéal de lui donner aussi n et data1 comme arguments. Malheureusement à cause du fait q'on vectorise L_star nous n'avons pas réussi à le faire."
   ]
  },
  {
   "cell_type": "code",
   "execution_count": 17,
   "metadata": {
    "collapsed": true
   },
   "outputs": [],
   "source": [
    "data_vector=np.array(hist)   #passage de list à vecteur de nos données\n",
    "\n",
    "real_data=data_vector[np.where(data_vector>0)]    #on choisi uniquement les valeurs positives\n",
    "n=len(real_data)\n",
    "data1=real_data"
   ]
  },
  {
   "cell_type": "markdown",
   "metadata": {},
   "source": [
    "Maintenant qu'on a nos données on va réutiliser les fonctions définies plus haut afin de trouver la courbe Likelihood et la valeur du temps de vie."
   ]
  },
  {
   "cell_type": "code",
   "execution_count": 18,
   "metadata": {
    "collapsed": true
   },
   "outputs": [],
   "source": [
    "vect_tau2=np.linspace(t_min, t_max, 1000)"
   ]
  },
  {
   "cell_type": "code",
   "execution_count": 19,
   "metadata": {
    "collapsed": true
   },
   "outputs": [],
   "source": [
    "t_min_vect=t_min*np.ones_like(vect_tau2)\n",
    "t_max_vect=t_max*np.ones_like(vect_tau2)\n",
    "L_vect_data=L_vect(vect_tau2, t_min_vect, t_max_vect)   #calcul de L_star pour toute une série de tau"
   ]
  },
  {
   "cell_type": "code",
   "execution_count": 20,
   "metadata": {},
   "outputs": [
    {
     "name": "stdout",
     "output_type": "stream",
     "text": [
      "6700.18194793\n",
      "2113.51351351 ns\n"
     ]
    }
   ],
   "source": [
    "L_min_data=min(L_vect_data)    #L_star minimal\n",
    "print(L_min_data)\n",
    "min_tau_data=min_tau(L_vect_data, L_min_data, vect_tau2)   #valeur de tau qui minimise L_star\n",
    "print(min_tau_data, 'ns')"
   ]
  },
  {
   "cell_type": "code",
   "execution_count": 21,
   "metadata": {},
   "outputs": [
    {
     "name": "stdout",
     "output_type": "stream",
     "text": [
      "2188.81351351 ns\n",
      "75.2999999999 ns\n"
     ]
    }
   ],
   "source": [
    "print(t_demi(L_vect_data, t_min, t_max, L_min_data, vect_tau2), 'ns')\n",
    "print(t_demi(L_vect_data, t_min, t_max, L_min_data, vect_tau2)-min_tau(L_vect_data, L_min_data, vect_tau2),'ns')"
   ]
  },
  {
   "cell_type": "markdown",
   "metadata": {},
   "source": [
    "L'erreur qu'on trouve est beaucoup trop petite et ne permet pas d'avoir le vrai temps de vie dans la marge d'erreur."
   ]
  },
  {
   "cell_type": "markdown",
   "metadata": {},
   "source": [
    "**Graphique**\n",
    "\n",
    "Regardons comment la courbe ajuste nos données:"
   ]
  },
  {
   "cell_type": "code",
   "execution_count": 22,
   "metadata": {
    "scrolled": true
   },
   "outputs": [
    {
     "data": {
      "image/png": "[encoded data removed]",
      "text/plain": [
       "<matplotlib.figure.Figure at 0x1353e9cbc88>"
      ]
     },
     "metadata": {},
     "output_type": "display_data"
    }
   ],
   "source": [
    "fig2, ax2 = plt.subplots(figsize=(8,6))\n",
    "plt.grid()\n",
    "ax2.hist(real_data, bins =100, normed = True, label='histogram')\n",
    "x = np.arange(t_start, t_stop, 0.1)\n",
    "ax2.plot(x, exp_decay(x, norm(t_start, t_stop, L_vect_data), min_tau_data, 0), lw =2 , label=r\"Best fitted $\\tau$ = %.1f\"%min_tau_data)\n",
    "#ax2.set_yscale('log')\n",
    "ax2.set_xlabel(\"X\")\n",
    "ax2.set_ylabel(\"counts\")\n",
    "ax2.legend()\n",
    "plt.show()"
   ]
  },
  {
   "cell_type": "markdown",
   "metadata": {
    "collapsed": true
   },
   "source": [
    "### Bruit\n",
    "\n",
    "Jusqu'à là nous avons traité nos données comme si elles étaient purs, or nous savons qu'il y a un bruit électronique non négligeable.\n",
    "\n",
    "Comme on sait que le temps de vie du muon est de $2.2 \\mu s$, on peut s'attendre à ce que la queue de l'exponentielle n'est constituée que de bruit. Dans cette région le bruit semble se répartir uniformément et on pourrait donc l'assimiler à une droite. Mais comme on a plus de probabilité de mesurer du bruit au début de la gate, on aura plus d'événements correspondant au bruit dans cette région.\n",
    "En effet comme le bruit est aléatoire la probabilité, que l'intervalle séparant deux événements bruits suceptibles de déclencher un signal start et stop soit petit, est grande.\n",
    "Par conséquent le bruit sera en vérité aussi distribué selon une exponentielle décroissante, mais une esponentielle plus plâte que celle correspondant au temps de vie des muons. \n",
    "\n",
    "Il va donc falloir tenir compte de cela dans la fonction de distribution et on aura: \n",
    "$$fdp = k(\\frac{1}{\\tau}e^{-t/\\tau}+y_0)$$\n",
    "\n",
    "La constante de bruit correspond à la *\"hauteur\"* moyenne des colonnes dans la région considérée, elle sera égal au nombre d'évenements de bruit par unité de temps, le tout divisé par le nombre total d'événements: $$ y_0=\\frac{\\#bruit}{\\Delta t_{bruit}\\cdot \\#év_{tot}}$$\n",
    "\n",
    "Il va falloir aussi normaliser notre fonction de distribution:\n",
    "\\begin{array}{rlcl}\n",
    "&\\int^{t_{max}}_{t_{min}} k(\\frac{1}{\\tau}e^{-t/\\tau}+y_0)dt &=& 1\\\\\n",
    "& k \\left( -(e^{-t_{max}/\\tau}-e^{-t_min/\\tau})+y_0(t_{max}-t_{min}) \\right) &=&1 \\\\\n",
    "\\Leftrightarrow & k &=& \\frac{1}{y_0(t_{max}-t_{min})-(e^{-t_{max}/\\tau}-e^{-t_{min}/\\tau})} \n",
    "\\end{array}"
   ]
  },
  {
   "cell_type": "markdown",
   "metadata": {},
   "source": [
    "On a considéré qu'à partir $15000  ns$ jusqu'à la fin le bruit domine complètement."
   ]
  },
  {
   "cell_type": "code",
   "execution_count": 23,
   "metadata": {
    "collapsed": true
   },
   "outputs": [],
   "source": [
    "#bruit de 15000 à 17911\n",
    "debut_bruit = 15000\n",
    "t_bruit=real_data[np.where(real_data>debut_bruit)]\n",
    "nb_bruit=len(t_bruit)  # #bruit"
   ]
  },
  {
   "cell_type": "code",
   "execution_count": 24,
   "metadata": {},
   "outputs": [
    {
     "name": "stdout",
     "output_type": "stream",
     "text": [
      "9.31064639163e-06\n"
     ]
    }
   ],
   "source": [
    "# delta t_bruit correspond à la durée de temps sur laquelle on a du bruit: fin_bruit-debut_bruit\n",
    "fin_bruit=max(real_data)\n",
    "y0 = nb_bruit/((fin_bruit-debut_bruit)*len(real_data))\n",
    "\n",
    "print(y0)"
   ]
  },
  {
   "cell_type": "code",
   "execution_count": 25,
   "metadata": {
    "collapsed": true
   },
   "outputs": [],
   "source": [
    "k_bruit=1/(y0*(t_stop-t_start)-(np.exp(-t_stop/min_tau_data)-np.exp(-t_start/min_tau_data)))"
   ]
  },
  {
   "cell_type": "code",
   "execution_count": 26,
   "metadata": {},
   "outputs": [
    {
     "data": {
      "image/png": "[encoded data removed]",
      "text/plain": [
       "<matplotlib.figure.Figure at 0x1353ef26390>"
      ]
     },
     "metadata": {},
     "output_type": "display_data"
    }
   ],
   "source": [
    "fig2, ax2 = plt.subplots(figsize=(8,6))\n",
    "plt.grid()\n",
    "ax2.hist(real_data, bins =100, normed = True, label='histogram')\n",
    "x2= np.arange(t_start, t_stop, 0.1)\n",
    "ax2.plot(x2, exp_decay(x2, k_bruit, min_tau_data, y0), lw =2 , label=r\"Best fitted $\\tau$ = %.1f\"%min_tau_data)\n",
    "#ax2.set_yscale('log')\n",
    "ax2.set_xlabel(\"X\")\n",
    "ax2.set_ylabel(\"counts\")\n",
    "ax2.legend()\n",
    "plt.show()"
   ]
  },
  {
   "cell_type": "markdown",
   "metadata": {},
   "source": [
    "On remarque que cette courbe colle déjà beaucoup mieux à nos données et est donc une bien meuilleure approximation."
   ]
  },
  {
   "cell_type": "code",
   "execution_count": null,
   "metadata": {
    "collapsed": true
   },
   "outputs": [],
   "source": []
  }
 ],
 "metadata": {
  "kernelspec": {
   "display_name": "Python 3",
   "language": "python",
   "name": "python3"
  },
  "language_info": {
   "codemirror_mode": {
    "name": "ipython",
    "version": 3
   },
   "file_extension": ".py",
   "mimetype": "text/x-python",
   "name": "python",
   "nbconvert_exporter": "python",
   "pygments_lexer": "ipython3",
   "version": "3.6.2"
  }
 },
 "nbformat": 4,
 "nbformat_minor": 2
}
