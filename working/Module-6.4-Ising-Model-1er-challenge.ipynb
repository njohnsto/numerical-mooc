{
 "cells": [
  {
   "cell_type": "markdown",
   "metadata": {},
   "source": [
    "$$\\textbf{Section 4: Ising Model}$$"
   ]
  },
  {
   "cell_type": "markdown",
   "metadata": {},
   "source": [
    "1) Check that this is not a coincidence and that the metropolis algorithm gives the correct ratio of \"ups\" and \"downs\" for different lattice configurations. You may use the following routine to generate different ones with random initial dipole orientations."
   ]
  },
  {
   "cell_type": "code",
   "execution_count": null,
   "metadata": {
    "collapsed": true
   },
   "outputs": [],
   "source": [
    "from matplotlib import pyplot as plt\n",
    "import numpy as np\n",
    "%matplotlib inline\n",
    "from matplotlib import rcParams\n",
    "from matplotlib import animation\n",
    "from IPython.display import HTML\n",
    "import matplotlib.cm as cm \n",
    "rcParams['font.family'] = 'serif'\n",
    "rcParams['font.size'] = 16"
   ]
  },
  {
   "cell_type": "markdown",
   "metadata": {},
   "source": [
    "Commençons par réutiliser des fonctions du MOOC dont nous aurons besoin pour ce challenge"
   ]
  },
  {
   "cell_type": "code",
   "execution_count": 15,
   "metadata": {
    "collapsed": true
   },
   "outputs": [],
   "source": [
    "def initial_state(nx,ny):\n",
    "    \"\"\" Creates a lattice with random spin orientations\n",
    "   \n",
    "    Parameters:\n",
    "    ----------\n",
    "    nx   : int\n",
    "        Discretization points in x\n",
    "    ny   : int\n",
    "        Discretization points in y\n",
    "   \n",
    "    Returns:\n",
    "    -------\n",
    "    r: 2D array of spins\n",
    "    \"\"\"\n",
    "       \n",
    "    # Uniform random spins between 0 and 1  \n",
    "    r = np.random.randint(0,2,(nx,ny))\n",
    "    \n",
    "    # Where r=0, we assign a negative spin\n",
    "    r[r==0] =-1\n",
    "\n",
    "    return r"
   ]
  },
  {
   "cell_type": "code",
   "execution_count": 16,
   "metadata": {
    "collapsed": true
   },
   "outputs": [],
   "source": [
    "def energy_at_site(sp,alpha,sigma,ix,iy,nx,ny):\n",
    "    \"\"\" Computes the contribution to the energy for a given spin\n",
    "    at location ix,iy for a lattice with periodic boundary conditions\n",
    "   \n",
    "    Parameters:\n",
    "    ----------\n",
    "    sp: numpy array\n",
    "        array of spins\n",
    "    alpha  : real\n",
    "        coupling constant J/(kb*T)\n",
    "    sigma   : int\n",
    "        spin at site ix,iy\n",
    "    ix   : int\n",
    "        location in x\n",
    "    iy   : int\n",
    "        location in y\n",
    "    \n",
    "   \n",
    "    Returns:\n",
    "    -------\n",
    "    energy: energy for the given configuration\n",
    "    \"\"\"\n",
    "    \n",
    "    energy=-alpha*sigma*(sp[(ix-1)%nx,iy]+sp[(ix+1)%nx,iy]+sp[ix,(iy-1)%ny]+sp[ix,(iy+1)%ny])\n",
    "\n",
    "    return energy"
   ]
  },
  {
   "cell_type": "code",
   "execution_count": 17,
   "metadata": {
    "collapsed": true
   },
   "outputs": [],
   "source": [
    "def metropolis_at_site(sp,alpha,ix,iy,nx,ny):\n",
    "    \"\"\" Flips a dipole at site ix, iy when probability condition is met \n",
    "   \n",
    "    Parameters:\n",
    "    ----------\n",
    "    sp: numpy array\n",
    "        array of spins\n",
    "    alpha  : real\n",
    "        coupling constant J/(kb*T)\n",
    "    ix   : int\n",
    "        location in x\n",
    "    iy   : int\n",
    "        location in y\n",
    "    \"\"\"\n",
    "    sigma=sp[ix,iy]\n",
    "    energy_before_flip = energy_at_site(sp,alpha,sigma,ix,iy,nx,ny)\n",
    "    sigma = -sigma\n",
    "    energy_if_site_flipped = energy_at_site(sp,alpha,sigma,ix,iy,nx,ny)\n",
    "    \n",
    "    # Flip the site with Metropolis probability\n",
    "    # Condition is always satisifed if dE < 0\n",
    "    if (np.random.random_sample()<np.exp(-(energy_if_site_flipped \\\n",
    "                                               -energy_before_flip))):\n",
    "        sp[ix,iy]=-sp[ix,iy]"
   ]
  },
  {
   "cell_type": "markdown",
   "metadata": {},
   "source": [
    "On va ensuite créer N=5 ''lattices'' carrés de différentes tailles. Le premier est de taille 7x7, le second de taille (7+5)x(7+5), etc. \n",
    "\n",
    "On met tous ces états initiaux dans une grande matrice $sp$. On se permet d'utiliser la fontion $append$, étant donné le faible nombre d'itérations. "
   ]
  },
  {
   "cell_type": "code",
   "execution_count": 18,
   "metadata": {
    "collapsed": true
   },
   "outputs": [],
   "source": [
    "sp=[]\n",
    "nx=7\n",
    "ny=7\n",
    "var=5\n",
    "numb=5\n",
    "for n in range(numb):\n",
    "    spi=initial_state(nx,ny)\n",
    "    sp.append(spi)\n",
    "    nx=nx+var\n",
    "    nx=ny+var"
   ]
  },
  {
   "cell_type": "markdown",
   "metadata": {},
   "source": [
    "On va ensuite appliquer l'algorithme Metropolis, pour aléatoirement retourner un dipôle afin de créer une série de NMC états, pour chacun des lattices. On va vérifier systématiquement le rapport spin up/spin down au point (5,5). \n",
    "\n",
    "Le lattice sur lequel on travaille est appelé $current$.\n",
    "\n",
    "En parallèle, on calcule le rapport par la formule:\n",
    "$$\n",
    "\\frac{p({\\rm up})}{p({\\rm downs})} = e^{-\\Delta E}\n",
    "$$\n",
    "la différence d'énergie étant prise entre un état où le dipôle n'a pas été retourné, et l'état où il l'a été."
   ]
  },
  {
   "cell_type": "code",
   "execution_count": 20,
   "metadata": {},
   "outputs": [
    {
     "name": "stdout",
     "output_type": "stream",
     "text": [
      "1.0 1.0\n",
      "1.49182469764 1.4907220603252882\n",
      "0.670320046036 0.6698672455539785\n",
      "1.0 1.0\n",
      "1.0 1.000040000800016\n"
     ]
    }
   ],
   "source": [
    "alpha = 0.1\n",
    "for k in range (5):\n",
    "    NMC = 100000\n",
    "    states = np.empty(NMC+1)\n",
    "    current=sp[k]\n",
    "    states[0]=current[5,5]\n",
    "\n",
    "    for n in range(0,NMC):\n",
    "        metropolis_at_site(current,alpha,5,5,nx,ny)\n",
    "        states[n]=current[5,5]\n",
    "\n",
    "    ups = np.extract(states==1, states).size\n",
    "    downs = NMC - ups\n",
    "    unflip=energy_at_site(current,alpha,-1,5,5,nx,ny)\n",
    "    flip= energy_at_site(current,alpha,1,5,5,nx,ny)\n",
    "    print(np.exp(-(flip-unflip)), (ups/downs))"
   ]
  },
  {
   "cell_type": "markdown",
   "metadata": {},
   "source": [
    "On constate bien que l'algorithme Metropolis fonctionne bien comme on le souhaite, et nous rend bien le même rapport assez similaire au cas où l'on calcule l'exponentielle de la différence d'énergie. "
   ]
  }
 ],
 "metadata": {
  "kernelspec": {
   "display_name": "Python 3",
   "language": "python",
   "name": "python3"
  },
  "language_info": {
   "codemirror_mode": {
    "name": "ipython",
    "version": 3
   },
   "file_extension": ".py",
   "mimetype": "text/x-python",
   "name": "python",
   "nbconvert_exporter": "python",
   "pygments_lexer": "ipython3",
   "version": "3.6.3"
  }
 },
 "nbformat": 4,
 "nbformat_minor": 2
}
