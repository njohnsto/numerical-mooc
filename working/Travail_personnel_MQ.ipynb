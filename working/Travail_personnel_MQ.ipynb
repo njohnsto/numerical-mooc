{
 "cells": [
  {
   "cell_type": "markdown",
   "metadata": {},
   "source": [
    "## Relax and hold steady\n",
    "\n",
    "***Le but de ce notebook est d'implémenter le flux de Stokes dans une cavité carrée, en résolvant une équation biharmonique.***"
   ]
  },
  {
   "cell_type": "markdown",
   "metadata": {},
   "source": [
    "Le flux de Stokes est très pratique, car il permet de simplifier l'équation de Navier-Stokes en éliminant la non-linéarité. Après un changement d'échelle, l'équation de Navier-Stokes s'écrit:\n",
    "\n",
    "\\begin{equation}\n",
    "Re \\left(\\frac{\\partial u^*}{\\partial t} + u^* \\cdot \\nabla u^* \\right) = -\\nabla p^* + \\nabla^2 u^*\n",
    "\\end{equation}\n",
    " Dans le flux de Stokes, on suppose que le nombre de Reynolds tend vers zero, ce qui va simplifier cette équation. Prenons le rotationnel après simplification:\n",
    " \n",
    "\\begin{equation}\n",
    "\\nabla \\times 0 = \\nabla \\times \\left( - \\nabla p + \\nabla^2 u\\right)\n",
    "\\end{equation}\n",
    "\n",
    "Or $p$ étant un scalaire, le premier terme de droite s'annule et on obtient:\n",
    "\n",
    "\\begin{equation}\n",
    "\\nabla ^2 \\omega = 0\n",
    "\\end{equation}\n",
    "\n",
    "où $\\nabla \\times u = \\omega$ est la vorticité.  \n",
    "\n",
    "Regardons ce qu'il en est de l'écoulement en deux dimensions, où une des vitesse est nulle. Pour un écoulement incompressible on peut définir la fonction de flot $\\psi$ comme:\n",
    "\n",
    "\\begin{equation}\n",
    "u = \\frac{\\partial \\psi}{\\partial y} \\quad \\text{et} \\quad v = - \\frac{\\partial \\psi}{\\partial x}\n",
    "\\end{equation}\n",
    "\n",
    "et\n",
    "\n",
    "\\begin{equation}\n",
    "\\omega = \\frac{\\partial v}{\\partial x} - \\frac{\\partial u}{\\partial y}\n",
    "\\end{equation}\n",
    " \n",
    "Finalement en combinant les trois équations, on obtient: \n",
    "\n",
    "\\begin{equation}\n",
    "\\nabla^4 \\psi= 0\n",
    "\\end{equation}\n",
    " "
   ]
  },
  {
   "cell_type": "markdown",
   "metadata": {},
   "source": [
    "Il nous font donc discrétiser cette équation, pour cela nous allons faire une discrétisation centrale finie, appliquée à l'expression suivante \n",
    "*(source: Wikipedia https://fr.wikipedia.org/wiki/%C3%89quation_biharmonique)*\n",
    "\n",
    "$$\\nabla ^4 \\psi = \\frac{\\partial^4 \\psi}{\\partial x^4}+\\frac{\\partial^4 \\psi}{\\partial y^4}+2\\frac{\\partial^4 \\psi}{\\partial x^2 \\partial y^2}=0$$ \n",
    "\n",
    "\n",
    "\\begin{array}{rcccl}\n",
    "\\frac{\\partial^2\\frac{\\partial^2 \\psi}{\\partial x^2}}{\\partial x^2}& \\Rightarrow &\\frac{\\left(\\frac{\\partial^2 \\psi}{\\partial x^2} \\right)_{i+1,j}-2\\left(\\frac{\\partial^2 \\psi}{\\partial x^2} \\right)_{i,j}+\\left(\\frac{\\partial^2 \\psi}{\\partial x^2} \\right)_{i-1,j}}{\\Delta x^2}&=&\\frac{\\left(\\psi_{i+1,j}-2\\psi_{i,j}+\\psi_{i-1,j} \\right)_{i+1,j}-2\\left(\\psi_{i+1,j}-2\\psi_{i,j}+\\psi_{i-1,j} \\right)_{i,j}+\\left(\\psi_{i+1,j}-2\\psi_{i,j}+\\psi_{i-1,j} \\right)_{i-1,j}}{\\Delta x^4}\\\\\n",
    "& & &=&\\frac{\\psi_{i+2,j}-2\\psi_{i+1,j}+\\psi_{i,j}-2(\\psi_{i+1,j}-2\\psi_{i,j}+\\psi_{i-1,j})+\\psi_{i,j}-2\\psi_{i-1,j}+\\psi_{i-2,j}}{\\Delta x^4}\n",
    "\\end{array}\n",
    "\n",
    "En procédans de même pour les deux autres termes et en considérant que $\\Delta x= \\Delta y$, on obtient finalement:\n",
    "\n",
    "$$\\nabla⁴ \\psi = 20\\psi_{i,j}^k - 8(\\psi_{i+1,j}^k+\\psi_{i,j+1}^k+\\psi_{i-1,j}^k+\\psi_{i,j-1}^k)+2(\\psi_{i+1,j-1}^k+\\psi_{i-1,j+1}+\\psi_{i+1,j+1}^k+\\psi_{i-1,j-1}^k)+(\\psi_{i+2,j}^k+\\psi_{i,j+2}^k+\\psi_{i-2,j}^k+\\psi_{i,j-2}^k)$$"
   ]
  },
  {
   "cell_type": "markdown",
   "metadata": {},
   "source": [
    "### Lid-driven cavity flow\n",
    "\n",
    "Nous allons en particulier nous intéresser au problème du *lid-driven cavity flow*, où notre carré $(nx \\times ny)$ possède un couvercle qui va se déplacer à vitesse constante $u = 1$. Et où il n'y a aucun fluide qui peut sortir. Nous allons aussi supposer que toutes les surfaces, le couvercle compris, possèdent des conditions aux bords dites \"no-slip border conditions\".\n",
    "\n",
    "Jetons un coup d'oeil aux conditions aux bords:\n",
    "\n",
    "<img src=\"./figures/drivencavity.svg\" width=400px>"
   ]
  },
  {
   "cell_type": "markdown",
   "metadata": {},
   "source": [
    "**Conditions aux bords**\n",
    "\n",
    "Tout d'abord nous avons des conditions de Dirichlet $\\psi = 0$ sur les bords. Ceci est plutôt intuitif, étant donné qu'il n'y a pas de fluide en dehors de la boîte et les bords même ne sont pas un fluide non plus.\n",
    "\n",
    "En plus de cela nous avons des conditions de Neumann dont il va falloir tenir compte. Pour les trois bords fixes, la vélocité selon les composantes $u$ et $v$ est nulle, justement car ses bords ne se mouvoient pas. Par contre pour le couvercle se déplaçant avec une vitesse constante $u=1$ on aura la condition $\\frac{\\partial \\psi}{\\partial y}=1$.\n",
    "\n",
    "En fonction du bord sur lequel nous nous trouvons, nous allons appliquer la méthode de *\"forward ou backward, second order accurate finite differences\"*, en n'utilisant que des points de la bordure intérieure.\n",
    "\n",
    "Regardons en détails le bord où $x=0$ et appliquons un raisonnement analogue pour les autres bords:\n",
    "\n",
    "1. En $x=0$ on aura $\\frac{\\partial \\psi}{\\partial x}=0$\n",
    "Comme on ne connait que $\\psi$ à l'intérieur du carré, on va utiliser discretisation *\"forward\"* du deuxième ordre. On a utilisé les coefficients donnés sur la page *https://en.wikipedia.org/wiki/Finite_difference_coefficient*:\n",
    "\n",
    "$$\\frac{-3/2 \\psi_{i,j}+2\\psi_{i+1,j}-1/2\\psi_{i+2,j}}{\\Delta x}=0$$\n",
    "Or on sait aussi que $\\psi$ s'annule sur le bord et donc $\\psi_{i,j}=0$. $\\Rightarrow \\psi_{1,j}=1/4 \\psi_{2,j}$ \n",
    "\n",
    "2. En $x=l$ on aura aussi $\\frac{\\partial \\psi}{\\partial x}=0$ et on devra utiliser la discrétisation *\"backwards\"*:\n",
    "$$\\psi_{l-1,j}=1/4\\psi_{l-2,j}$$\n",
    "\n",
    "3. En $y=0$ on aura $\\frac{\\partial \\psi}{\\partial y}=0$ et on va utiliser la discrétisation *\"forward\"*:\n",
    "\n",
    "$$\\psi_{i,+1}=1/4\\psi_{i,+2}$$\n",
    "\n",
    "4. En y=l on aura $\\frac{\\partial \\psi}{\\partial y}=1$, ici on utilisera la discrétisation *\"backwards\"*:\n",
    "$$\\frac{3/2 \\psi_{i,j}-2\\psi_{i-1,j}+1/2\\psi_{i-2,j}}{\\Delta y}=1 \\Leftrightarrow \\psi_{i,l-1}=1/2(1/2\\psi_{i,l-2}-\\Delta y)$$"
   ]
  },
  {
   "cell_type": "markdown",
   "metadata": {},
   "source": [
    "Il ne reste plus qu'à implémenter le tout et puis nous serons prêt à résoudre l'équation biharmonique.\n",
    "\n",
    "Pour la résolution de se problème nous allons utiliser la méthode du gradient conjugué décrit dans le *numerical mooc master 5.4*.\n",
    "\n",
    "Rappelons brièvement le fonctionnement de cette méthode. (Remarque: afin de faciliter la notation on dénotera psi simplement par p.)\n",
    "On va stocker toutes nos valeurs de $\\psi_{i,j}$ en tous les points dans un vecteur $\\mathbf{p}$ de $N = nx*ny$ valeurs, et on prend une matrice A $N \\times N$ qui comprend nos coefficient devant $\\mathbf{p}$: $\\quad A\\mathbf{p} = 0$\n",
    "\n",
    "On va partir d'une première estimation $\\mathbf{p}^0$, que nous allons ensuite modifier de sorte à s'approcher de plus en plus de la solution. Pour cela on va modifier notre vecteur $\\mathbf{p}$ en ajoutant un autre vecteur:\n",
    "\\begin{equation}\n",
    "{\\bf p}^{k+1}={\\bf p}^k + \\alpha {\\bf d}^k\n",
    "\\end{equation}\n",
    "\n",
    "En choisissant bien la direction donnée par $\\mathbf{d}^k$ nous allons pouvoir converger plus rapidement vers notre solution. Pour cela nous allons utiliser le résidu.\n",
    "\n",
    "Nous savons qu'il existe une erreur entre la valeur de $p_i^k$ calculé et de la valeur exacte. En tenant compte de cette erreur, on aura: \n",
    "\\begin{equation}\n",
    "{\\bf r^k} + A \\bf p^k = 0\n",
    "\\end{equation}\n",
    "\n",
    "Il s'agit maintenant de faire tendre ce résidu le plus rapidement possible vers zéro. On commence par \n",
    "\n",
    "$$\\mathbf{r}^0=-A \\mathbf{p}^0$$\n",
    "\n",
    "La méthode des gradients conjugués consiste à réduire le nombre de pas pris afin d'arriver plus rapidement à la solution, par rapport à la méthode de \"steepest descent\" également évoquée dans les modules . Pour cela l'algorithme ne va jamais prendre une même direction deux fois de suite. Nous allons alors prendre des pas de taille \n",
    "\n",
    "$$\\alpha = \\frac{\\mathbf{r}^k \\mathbf{r}^k}{A \\mathbf{d}^k \\mathbf{d}^k}$$\n",
    "\n",
    "et de direction \n",
    "\n",
    "$$\\mathbf{d}^{k+1} = \\mathbf{r}^{k+1}+\\beta \\mathbf{d}^k$$\n",
    "\n",
    "avec $\\beta = \\frac{\\mathbf{r}^{k+1}\\mathbf{r}^{k+1}}{\\mathbf{r}^k\\mathbf{r}^k}$\n",
    "\n",
    "Notre $\\mathbf{p}$ va alors varier comme: $\\mathbf{p}^{k+1} = \\mathbf{p}^k + \\alpha \\mathbf{d}^k$\n",
    "\n",
    "$\\mathbf{p}$ et $\\mathbf{k}$ étant directement lié, nous devrons appliquer nos conditions aux bords aux deux."
   ]
  },
  {
   "cell_type": "code",
   "execution_count": 1,
   "metadata": {
    "collapsed": true
   },
   "outputs": [],
   "source": [
    "import numpy as np\n",
    "from matplotlib import pyplot\n",
    "%matplotlib inline\n",
    "from matplotlib import rcParams, cm\n",
    "rcParams['font.family'] = 'serif'\n",
    "rcParams['font.size'] = 16\n"
   ]
  },
  {
   "cell_type": "markdown",
   "metadata": {},
   "source": [
    "Définissons nos paramètres de base comme indiqué dans les consignes, ainsi que les conditions aux bords.\n",
    "\n",
    "En effet il faut implémenter les conditions une première fois en dehors de la boucle d'itération, afin de fixer $\\mathbf{d}^0= \\mathbf{r}^0$."
   ]
  },
  {
   "cell_type": "code",
   "execution_count": 2,
   "metadata": {
    "collapsed": true
   },
   "outputs": [],
   "source": [
    "nx = 41   #nombre de points dans notre grille\n",
    "ny = 41\n",
    "L = 1   #largeur de la cavité \n",
    "H = 1   #hauteur de la cavité \n",
    "\n",
    "dx = L/(nx-1)\n",
    "dy = H/(ny-1)\n",
    "\n",
    "#permettra dans la suite de déterminer la durée d'itération\n",
    "l1_norm = 1\n",
    "l1_target = 1e-8\n",
    "\n",
    "#condition de Dirichlet\n",
    "#nous commençons avec une cavité sans flux, cela permet aussi de ne pas avoir à initialiser les conditions de Dirichlet\n",
    "p_i = np.zeros((ny,nx))\n",
    "\n",
    "#donne la coordonnée en x et y de chaque point de notre grille\n",
    "x = np.linspace(0,L,nx) \n",
    "y = np.linspace(0,H,ny) \n",
    "\n",
    "#initialisation des conditions aux bords de Neumann\n",
    "p_i[0,:]=p_i[:,0]=p_i[-1,:]=p_i[:,-1]=0 \n",
    "p_i[-2,2:-2] = 1/2*(1/2*p_i[-3,2:-2]-dy)   #en y = L\n",
    "p_i[1,2:-2] = 1/4*p_i[2,2:-2]              #en y = 0\n",
    "p_i[1:-1,1] = 1/4*p_i[1:-1,2]              #en x = 0 \n",
    "p_i[1:-1,-2] = 1/4*p_i[1:-1,-3]            #en x = L"
   ]
  },
  {
   "cell_type": "markdown",
   "metadata": {},
   "source": [
    "**Remarque sur les conditions aux bords:** Etant donné que nous voulons rester à l'intérieur du carrée, on va devoir regarder nos conditions aux bords depuis un contour décalé de deux points de la grille (un à chaque extrémité) vers l'intérieur. Ceci explique par exemple le fait qu'on a pris [1:-1,1] pour $x=0$, on commence en x,y = 1 et on parcourt toutes les valeurs de y sauf la dernière. On procède de la même manière pour le bord opposé (x=L). Par contre pour les deux bords restant, on va parcourir l'axe des x sur [2:-2], car on ne veut pas compter deux fois les coins. "
   ]
  },
  {
   "cell_type": "markdown",
   "metadata": {},
   "source": [
    "Au lieu d'utiliser la fonction L2_error du cours, nous allons utiliser la fonction donnée dans les consignes, afin de calculer la norme L1 entre nos anciennes et nouvelles valeurs de $\\psi$. Cette fonction va nous permettre de calculer la convergence de notre algorithme.\n",
    "\n",
    "$$L_{1norm} = \\sum_{k=0}^{N} |p_k -p|$$"
   ]
  },
  {
   "cell_type": "code",
   "execution_count": 3,
   "metadata": {
    "collapsed": true
   },
   "outputs": [],
   "source": [
    "def L1norm(new, old):\n",
    "    norm = np.sum(np.abs(new-old))\n",
    "    return norm"
   ]
  },
  {
   "cell_type": "markdown",
   "metadata": {},
   "source": [
    "Appliquons maintenant la méthode du gradient conjugué.\n",
    "\n",
    "Les différentes étapes sont les suivantes, on applique une seule fois $\\mathbf{d}^0= \\mathbf{r}^0$, puis on fait:\n",
    "\n",
    "1. Calculer $\\alpha = \\frac{{\\bf r}^k \\cdot {\\bf r}^k}{A{\\bf d}^k \\cdot {\\bf d}^k}$\n",
    "2. Calculer ${\\bf p}^{k+1}$\n",
    "3. Calculer ${\\bf r}^{k+1} = {\\bf r}^k - \\alpha A {\\bf d}^k$ \n",
    "4. Calculer $\\beta = \\frac{{\\bf r}^{k+1} \\cdot {\\bf r}^{k+1}}{{\\bf r}^k \\cdot {\\bf r}^k}$\n",
    "5. Calculer ${\\bf d}^{k+1}={\\bf r}^{k+1}+\\beta{\\bf d}^{k}$\n",
    "6. Répéter!"
   ]
  },
  {
   "cell_type": "code",
   "execution_count": 4,
   "metadata": {
    "collapsed": true
   },
   "outputs": [],
   "source": [
    "def conjugate_gradient_biharm(p, dx, dy, l2_target):\n",
    "    '''Résolution via la méthode du gradient conjugué de notre équation biharmonique pour\n",
    "    une boîte fermé avec un couvercle étanche qui se dépolace à vitesse constante u=1\n",
    "    \n",
    "    Admet les conditions aux bords de  Dirichlet p=0, ainsi que les conditions de Neumann\n",
    "    \n",
    "    Parameters:\n",
    "    ----------\n",
    "    p : Matrice 2D de \"floats\"\n",
    "        Matrice initiale\n",
    "    dx: \"float\"\n",
    "        Discretisation selon x\n",
    "    dy: \"float\"\n",
    "        Discretisation selon y\n",
    "    l2_target: \"float\"\n",
    "        Critère de fin de l'itération\n",
    "        \n",
    "    Returns:\n",
    "    -------\n",
    "    p: Matrice 2D de \"float\"\n",
    "        Solution du problème biharmonique\n",
    "    '''\n",
    "    ny, nx = p.shape       #on s'assure que notre grille a bien les dimensions voulues\n",
    "    r  = np.zeros((ny,nx)) # initialsiation des residus \n",
    "    Ad  = np.zeros((ny,nx)) # initialisation de la matrice résultante de Axd\n",
    "    \n",
    "    l1_norm = 1              \n",
    "    iterations = 0\n",
    "    l2_conv = []\n",
    "    \n",
    "    # première étape: on implémente les résidus initiaux \n",
    "    # ainsi, la première direction de recheche est ce résidu\n",
    "    r[2:-2,2:-2]= (1/dx**4)*(-20 *p[2:-2,2:-2]+ (8*(p[2:-2,3:-1] + p[3:-1,2:-2] + p[2:-2,1:-3]+ p[1:-3, 2:-2])\\\n",
    "                          -2*(p[1:-3,3:-1]+p[3:-1,1:-3]+p[3:-1,3:-1]+p[1:-3,1:-3])\\\n",
    "                          -(p[2:-2,4:]+p[4:,2:-2]+p[2:-2,:-4]+p[:-4,2:-2])))\n",
    "    \n",
    "\n",
    "    d = r.copy()    #d0=r0 \n",
    "    \n",
    "    #calcul du numérateur de alpha \n",
    "    rho = np.sum(r*r)  \n",
    "    \n",
    "    #Conditions de Dirichlet pour d\n",
    "    d[0,:]=d[:,0]=d[-1,:]=d[:,-1]=0 \n",
    "        \n",
    "    #Conditions de Neumann pour d\n",
    "    d[-2,2:-2]=1/2*(1/2*d[-3,2:-2]-dy)     #en y = L\n",
    "    d[1,2:-2]= 1/4*d[2,2:-2]               #en y = 0\n",
    "    d[1:-1,1] = 1/4*d[1:-1,2]              #en x = 0 \n",
    "    d[1:-1,-2] = 1/4*d[1:-1,-3]            #en x = L\n",
    "    \n",
    "    #Calcul de A x d\n",
    "    Ad[2:-2,2:-2]= -(1/dx**4)*(-20*d[2:-2,2:-2] + (8*(d[2:-2,3:-1] + d[3:-1,2:-2] + d[2:-2,1:-3]+ \\\n",
    "                        d[1:-3, 2:-2])+2*(-d[1:-3,3:-1]-d[3:-1,1:-3]-d[3:-1,3:-1]-\\\n",
    "                        d[1:-3,1:-3])+(-d[2:-2,4:]-d[4:,2:-2]-\\\n",
    "                        d[2:-2,:-4]-d[:-4,2:-2])))\n",
    "    #Calcul du dénominateur de alpha\n",
    "    sigma = np.sum(d*Ad)\n",
    "\n",
    "    # Iterations pour une durée déterminée par l2_target\n",
    "    while l1_norm > l2_target:\n",
    "        \n",
    "        #nous prenons une copie des matrices, afin de garder une version initiale inchangée\n",
    "        pk = p.copy()     \n",
    "        rk = r.copy()\n",
    "        dk = d.copy()\n",
    "        \n",
    "        # 1) calcul de alpha\n",
    "        alpha = rho/sigma\n",
    "        \n",
    "        #2) calcul de p^{k+1}\n",
    "        p = pk + alpha*dk\n",
    "        \n",
    "        #3) calcul de r^{k+1}\n",
    "        r = rk- alpha*Ad\n",
    "        \n",
    "        #Conditions aux bords sur p (doivent rester vérifier au cours des itérations)\n",
    "        \n",
    "        #Condition de Dirichlet\n",
    "        p[0,:]=p[:,0]=p[-1,:]=p[:,-1]=0 \n",
    "        \n",
    "        #Condition de Neumann\n",
    "        p[-2,2:-2]=1/2*(1/2*p[-3,2:-2]-dy)     #en y = L\n",
    "        p[1,2:-2]= 1/4*p[2,2:-2]               #en y = 0\n",
    "        p[1:-1,1] = 1/4*p[1:-1,2]              #en x = 0 \n",
    "        p[1:-1,-2] = 1/4*p[1:-1,-3]            #en x = L\n",
    "        \n",
    "        rhop1 = np.sum(r*r)     #calcul du numérateur de beta\n",
    "        \n",
    "        #4) calcul de beta\n",
    "        beta = rhop1 / rho\n",
    "        rho = rhop1\n",
    "        \n",
    "        #5) calcul de d^{k+1}\n",
    "        d = r + beta*dk\n",
    "        \n",
    "        #Conditions aux bords pour d\n",
    "        #Condition de Dirichlet\n",
    "        d[0,:]=d[:,0]=d[-1,:]=d[:,-1]=0 \n",
    "        \n",
    "        #Condotion de Neumann\n",
    "        d[-2,2:-2]=1/2*(1/2*d[-3,2:-2]-dy)     #en y = L\n",
    "        d[1,2:-2]= 1/4*d[2,2:-2]               #en y = 0\n",
    "        d[1:-1,1] = 1/4*d[1:-1,2]              #en x = 0 \n",
    "        d[1:-1,-2] = 1/4*d[1:-1,-3]            #en x = L\n",
    "        \n",
    "        #Calcul de notre nouveau A x d, afin de répéter toutes ces étapes\n",
    "        Ad[2:-2,2:-2]= -(1/dx**4)*(-20*d[2:-2,2:-2] + (8*(d[2:-2,3:-1] + d[3:-1,2:-2] + d[2:-2,1:-3]+ \\\n",
    "                        d[1:-3, 2:-2])+2*(-d[1:-3,3:-1]-d[3:-1,1:-3]-d[3:-1,3:-1]-\\\n",
    "                        d[1:-3,1:-3])+(-d[2:-2,4:]-d[4:,2:-2]-\\\n",
    "                        d[2:-2,:-4]-d[:-4,2:-2])))\n",
    "\n",
    "        sigma = np.sum(d*Ad)\n",
    "        \n",
    "        #Calcul pour la convergence et pour définir la fin des itérations\n",
    "        l1_norm = L1norm(pk,p)\n",
    "        iterations += 1   #permet d'avoir le nombre d'itération \n",
    "        l2_conv.append(l1_norm)\n",
    "    \n",
    "    print('Nombre d itération pour la méthode du gradient conjugué: {0:d}'.format(iterations))\n",
    "    return p, l2_conv     \n"
   ]
  },
  {
   "cell_type": "markdown",
   "metadata": {},
   "source": [
    "Evaluons notre fonction pour voir le nombre d'itération necéssaire:"
   ]
  },
  {
   "cell_type": "code",
   "execution_count": 5,
   "metadata": {},
   "outputs": [
    {
     "name": "stdout",
     "output_type": "stream",
     "text": [
      "Nombre d itération pour la méthode du gradient conjugué: 46191\n"
     ]
    }
   ],
   "source": [
    "p, l1_conv = conjugate_gradient_biharm(p_i.copy(), dx, dy, l1_target)"
   ]
  },
  {
   "cell_type": "markdown",
   "metadata": {},
   "source": [
    "On remarque que cette méthode necéssite quand même beaucoup d'itérations, mais cela n'est pas surprenant étant donné que l'équation biharmonique n'est pas une petite équation facile à résoudre. \n",
    "\n",
    "Regardons maintenant ce que donne le graphique de notre flux final:"
   ]
  },
  {
   "cell_type": "code",
   "execution_count": 6,
   "metadata": {},
   "outputs": [
    {
     "data": {
      "text/plain": [
       "Text(0.5,1,'Contour de l équation biharmonique')"
      ]
     },
     "execution_count": 6,
     "metadata": {},
     "output_type": "execute_result"
    },
    {
     "data": {
      "image/png": "[encoded data removed]",
      "text/plain": [
       "<matplotlib.figure.Figure at 0x7fd9ec299ba8>"
      ]
     },
     "metadata": {},
     "output_type": "display_data"
    }
   ],
   "source": [
    "pyplot.figure(figsize=(10,8))\n",
    "pyplot.contourf(x,y,p,50,cmap=cm.viridis)\n",
    "pyplot.xlabel('$x$')\n",
    "pyplot.ylabel('$y$')\n",
    "pyplot.colorbar();\n",
    "pyplot.title('Contour de l équation biharmonique')"
   ]
  },
  {
   "cell_type": "markdown",
   "metadata": {},
   "source": [
    "Nous retrouvons bien le contour attendu. On a apparition d'un vortex au niveau du couvercle bougeant."
   ]
  },
  {
   "cell_type": "markdown",
   "metadata": {},
   "source": [
    "Finalement regardons quelles sont les valeurs de notre fonction aux points suivant (x,y): (0.6,0.2), (0.6,0.4), (0.6,0.6), (0.6,0.8).\n",
    "Pour cela il nous faut calculer les indices spatiaux."
   ]
  },
  {
   "cell_type": "code",
   "execution_count": 7,
   "metadata": {},
   "outputs": [
    {
     "name": "stdout",
     "output_type": "stream",
     "text": [
      "8 16 24 32\n"
     ]
    }
   ],
   "source": [
    "#nx = ny et L = H\n",
    "\n",
    "def ind_x(x,L,nx):\n",
    "    return int((x*nx)/L)\n",
    "\n",
    "#or y et x sont symétrique, regardons donc ce que vaut l'indice en 0.2,0.4,0.6 et 0.8\n",
    "print(ind_x(0.2,L,nx),ind_x(0.4,L,nx),ind_x(0.6,L,nx),ind_x(0.8,L,nx))"
   ]
  },
  {
   "cell_type": "markdown",
   "metadata": {},
   "source": [
    "1) en (x,y) = (0.6,0.2)"
   ]
  },
  {
   "cell_type": "code",
   "execution_count": 8,
   "metadata": {},
   "outputs": [
    {
     "name": "stdout",
     "output_type": "stream",
     "text": [
      "-0.010032064283918415\n"
     ]
    }
   ],
   "source": [
    "print(p[8,24])"
   ]
  },
  {
   "cell_type": "markdown",
   "metadata": {},
   "source": [
    "2) en (x,y) = (0.6,0.4)"
   ]
  },
  {
   "cell_type": "code",
   "execution_count": 9,
   "metadata": {},
   "outputs": [
    {
     "name": "stdout",
     "output_type": "stream",
     "text": [
      "-0.03614755534890854\n"
     ]
    }
   ],
   "source": [
    "print(p[16,24])"
   ]
  },
  {
   "cell_type": "markdown",
   "metadata": {},
   "source": [
    "3) en (x,y) = (0.6,0.6)"
   ]
  },
  {
   "cell_type": "code",
   "execution_count": 10,
   "metadata": {},
   "outputs": [
    {
     "name": "stdout",
     "output_type": "stream",
     "text": [
      "-0.07381974805715137\n"
     ]
    }
   ],
   "source": [
    "print(p[24,24])"
   ]
  },
  {
   "cell_type": "markdown",
   "metadata": {},
   "source": [
    "4) en (x,y) = (0.6,0.8)"
   ]
  },
  {
   "cell_type": "code",
   "execution_count": 11,
   "metadata": {},
   "outputs": [
    {
     "name": "stdout",
     "output_type": "stream",
     "text": [
      "-0.09451468243573317\n"
     ]
    }
   ],
   "source": [
    "print(p[32,24])"
   ]
  },
  {
   "cell_type": "markdown",
   "metadata": {},
   "source": [
    "Pour finir regardons à quoi ressemble notre convergence. Pour la méthode du gradient conjugué nous nous attendons normalement à avoir une forte convergence au début, soit une pente très raide et puis cette pente va se stabiliser. On aura atteint alors la limite de la méthode du gradient conjugué."
   ]
  },
  {
   "cell_type": "code",
   "execution_count": 12,
   "metadata": {},
   "outputs": [
    {
     "data": {
      "text/plain": [
       "Text(0.5,1,'Convergence de l équation biharmonique')"
      ]
     },
     "execution_count": 12,
     "metadata": {},
     "output_type": "execute_result"
    },
    {
     "data": {
      "image/png": "[encoded data removed]",
      "text/plain": [
       "<matplotlib.figure.Figure at 0x7fd9c6099dd8>"
      ]
     },
     "metadata": {},
     "output_type": "display_data"
    }
   ],
   "source": [
    "pyplot.figure(figsize=(8,6))\n",
    "pyplot.grid(True)\n",
    "pyplot.xlabel(r'iterations', fontsize=18)\n",
    "pyplot.ylabel(r'$L_1$-norm', fontsize=18)\n",
    "pyplot.semilogy(np.arange(len(l1_conv)), l1_conv, lw=2, color='k');\n",
    "pyplot.title('Convergence de l équation biharmonique' )"
   ]
  },
  {
   "cell_type": "markdown",
   "metadata": {},
   "source": [
    "Nous obtenons bel et bien ce à quoi on s'attendait."
   ]
  },
  {
   "cell_type": "markdown",
   "metadata": {},
   "source": [
    "**Conclusion**\n",
    "\n",
    "Pour conclure nous avons réussi à résoudre l'équation biharmonique en utilisant la méthode du gradient conjugué et même si le nombre d'itération est plus élevé que lors de la résolution de l'équation de poisson par exemple, cela est probablement dû à la difficulté de résolution de l'équation. On voit toutefois sur le graphique précédant que cette méthode permet d'atteindre plutôt rapidement une relativement petite L1_norm, ce qui permet de se convaincre que l'utilisation de cette méthode est tout à fait justifiée, justement à cause de la fameuse réduction du nombre de pas pris pour converger à une solution par rapport à d'autres méthodes. "
   ]
  },
  {
   "cell_type": "code",
   "execution_count": null,
   "metadata": {
    "collapsed": true
   },
   "outputs": [],
   "source": []
  }
 ],
 "metadata": {
  "kernelspec": {
   "display_name": "Python 3",
   "language": "python",
   "name": "python3"
  },
  "language_info": {
   "codemirror_mode": {
    "name": "ipython",
    "version": 3
   },
   "file_extension": ".py",
   "mimetype": "text/x-python",
   "name": "python",
   "nbconvert_exporter": "python",
   "pygments_lexer": "ipython3",
   "version": "3.6.3"
  }
 },
 "nbformat": 4,
 "nbformat_minor": 2
}
