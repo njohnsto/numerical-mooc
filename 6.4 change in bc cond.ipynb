{
 "cells": [
  {
   "cell_type": "code",
   "execution_count": 1,
   "metadata": {
    "collapsed": true
   },
   "outputs": [],
   "source": [
    "from matplotlib import pyplot as plt\n",
    "import numpy as np\n",
    "%matplotlib inline\n",
    "from matplotlib import rcParams\n",
    "from matplotlib import animation\n",
    "from IPython.display import HTML\n",
    "import matplotlib.cm as cm \n",
    "rcParams['font.family'] = 'serif'\n",
    "rcParams['font.size'] = 16"
   ]
  },
  {
   "cell_type": "code",
   "execution_count": 2,
   "metadata": {
    "collapsed": true
   },
   "outputs": [],
   "source": [
    "def initial_state(nx,ny):\n",
    "    \"\"\" Creates a lattice with random spin orientations\n",
    "   \n",
    "    Parameters:\n",
    "    ----------\n",
    "    nx   : int\n",
    "        Discretization points in x\n",
    "    ny   : int\n",
    "        Discretization points in y\n",
    "   \n",
    "    Returns:\n",
    "    -------\n",
    "    r: 2D array of spins\n",
    "    \"\"\"\n",
    "       \n",
    "    # Uniform random spins between 0 and 1  \n",
    "    r = np.random.randint(0,2,(nx,ny))\n",
    "    \n",
    "    # Where r=0, we assign a negative spin\n",
    "    r[r==0] =-1\n",
    "\n",
    "    return r"
   ]
  },
  {
   "cell_type": "code",
   "execution_count": 3,
   "metadata": {},
   "outputs": [],
   "source": [
    "def energy_at_site(sp,alpha,sigma,sigma1,ix,iy):\n",
    "    \"\"\" Computes the contribution to the energy for a given spin\n",
    "    at location ix,iy for a lattice with periodic boundary conditions\n",
    "   \n",
    "    Parameters:\n",
    "    ----------\n",
    "    sp: numpy array\n",
    "        array of spins\n",
    "    alpha  : real\n",
    "        coupling constant J/(kb*T)\n",
    "    sigma   : int\n",
    "        spin at site ix,iy\n",
    "    ix   : int\n",
    "        location in x\n",
    "    iy   : int\n",
    "        location in y\n",
    "    \n",
    "   \n",
    "    Returns:\n",
    "    -------\n",
    "    energy: energy for the given configuration\n",
    "    \"\"\"\n",
    "    \n",
    "    #bordure composé de spin up uniquement\n",
    "    if ix==0 and iy!=0 and iy!=ny:\n",
    "        energy=-alpha*sigma1*(sp[(ix+1),iy]+sp[ix,(iy-1)]+sp[ix,(iy+1)])\n",
    "    \n",
    "    elif ix==nx and iy!=0 and iy!=ny:\n",
    "        energy=-alpha*sigma1*(sp[(ix-1),iy]+sp[ix,(iy-1)]+sp[ix,(iy+1)])\n",
    "    \n",
    "    elif iy==0 and ix!=0 and ix!=nx:\n",
    "        energy=-alpha*sigma1*(sp[(ix-1),iy]+sp[(ix+1),iy]+sp[ix,(iy+1)])\n",
    "    \n",
    "    elif iy==ny and ix!=0 and ix!=nx:\n",
    "        energy=-alpha*sigma1*(sp[(ix-1),iy]+sp[(ix+1),iy]+sp[ix,(iy-1)])\n",
    "    #coins    \n",
    "    elif ix==0 and iy==0:\n",
    "        energy=-alpha*sigma1*(sp[(ix+1),iy]+sp[ix,(iy+1)])\n",
    "    \n",
    "    elif ix==nx and iy==0:\n",
    "        energy=-alpha*sigma1*(sp[(ix-1),iy]+sp[ix,(iy+1)])\n",
    "    \n",
    "    elif iy==ny and ix==0:\n",
    "        energy=-alpha*sigma1*(sp[(ix+1),iy]+sp[ix,(iy-1)])\n",
    "    \n",
    "    elif iy==ny and ix==nx:\n",
    "        energy=-alpha*sigma1*(sp[(ix-1),iy]+sp[ix,(iy-1)])\n",
    "    #carré intérieur\n",
    "    else: \n",
    "        energy=-alpha*sigma1*(sp[(ix-1),iy]+sp[(ix+1),iy]+sp[ix,(iy-1)]+sp[ix,(iy+1)])\n",
    "        \n",
    "    return energy"
   ]
  },
  {
   "cell_type": "code",
   "execution_count": 4,
   "metadata": {
    "collapsed": true
   },
   "outputs": [],
   "source": [
    "def metropolis_at_site(sp,sigma1,alpha,ix,iy):\n",
    "    \"\"\" Flips a dipole at site ix, iy when probability condition is met \n",
    "   \n",
    "    Parameters:\n",
    "    ----------\n",
    "    sp: numpy array\n",
    "        array of spins\n",
    "    alpha  : real\n",
    "        coupling constant J/(kb*T)\n",
    "    ix   : int\n",
    "        location in x\n",
    "    iy   : int\n",
    "        location in y\n",
    "    \"\"\"\n",
    "    sigma=sp[ix,iy]\n",
    "    energy_before_flip = energy_at_site(sp,alpha,sigma,sigma1,ix,iy)\n",
    "    sigma = -sigma\n",
    "    energy_if_site_flipped = energy_at_site(sp,alpha,sigma,sigma1,ix,iy)\n",
    "    \n",
    "    # Flip the site with Metropolis probability\n",
    "    # Condition is always satisifed if dE < 0\n",
    "    if (np.random.random_sample()<np.exp(-(energy_if_site_flipped \\\n",
    "                                               -energy_before_flip))):\n",
    "        sp[ix,iy]=-sp[ix,iy]"
   ]
  },
  {
   "cell_type": "code",
   "execution_count": 18,
   "metadata": {},
   "outputs": [],
   "source": [
    "def ising_model_metropolis(sp,sigma1, NMC, nx, ny, alpha):\n",
    "    \"\"\" Creates a sequence of states for the Ising model using\n",
    "    the Metropolis algorithm\n",
    "   \n",
    "    Parameters:\n",
    "    ----------\n",
    "    sp   : initial lattice state\n",
    "    nx   : int\n",
    "        Discretization points in x\n",
    "    ny   : int\n",
    "        Discretization points in y\n",
    "    NMC  : int\n",
    "        Number of states to create\n",
    "    alpha  : real\n",
    "        coupling constant J/(kb*T)\n",
    "    Returns:\n",
    "    -------\n",
    "    states: sequence of states\n",
    "    \"\"\"\n",
    "    states = np.empty([NMC+1,nx-1,ny-1])\n",
    "    states[0] = sp.copy()\n",
    "    \n",
    "    for i in range(1,NMC+1):\n",
    "        for j in range(0,(nx-1)*(ny-1)):\n",
    "            ix=np.random.randint(0,nx-1)\n",
    "            iy=np.random.randint(0,ny-1)\n",
    "            metropolis_at_site(sp,sigma1,alpha,ix,iy)\n",
    "        states[i]=sp.copy()\n",
    "    return states"
   ]
  },
  {
   "cell_type": "code",
   "execution_count": 19,
   "metadata": {},
   "outputs": [],
   "source": [
    "sigma1=1\n",
    "sigma=1\n",
    "nx=100\n",
    "ny=100\n",
    "ix=5\n",
    "iy=5\n",
    "sp=np.ones([ny,nx])\n",
    "NMC=100\n",
    "alpha=0.7"
   ]
  },
  {
   "cell_type": "code",
   "execution_count": 20,
   "metadata": {},
   "outputs": [
    {
     "ename": "ValueError",
     "evalue": "could not broadcast input array from shape (100,100) into shape (99,99)",
     "output_type": "error",
     "traceback": [
      "\u001b[0;31m---------------------------------------------------------------------------\u001b[0m",
      "\u001b[0;31mValueError\u001b[0m                                Traceback (most recent call last)",
      "\u001b[0;32m<ipython-input-20-9c6dbe110af6>\u001b[0m in \u001b[0;36m<module>\u001b[0;34m()\u001b[0m\n\u001b[1;32m      1\u001b[0m \u001b[0menergy_at_site\u001b[0m\u001b[0;34m(\u001b[0m\u001b[0msp\u001b[0m\u001b[0;34m,\u001b[0m\u001b[0malpha\u001b[0m\u001b[0;34m,\u001b[0m\u001b[0msigma\u001b[0m\u001b[0;34m,\u001b[0m\u001b[0msigma1\u001b[0m\u001b[0;34m,\u001b[0m\u001b[0mix\u001b[0m\u001b[0;34m,\u001b[0m\u001b[0miy\u001b[0m\u001b[0;34m)\u001b[0m\u001b[0;34m\u001b[0m\u001b[0m\n\u001b[0;32m----> 2\u001b[0;31m \u001b[0mising_model_metropolis\u001b[0m\u001b[0;34m(\u001b[0m\u001b[0msp\u001b[0m\u001b[0;34m,\u001b[0m\u001b[0msigma1\u001b[0m\u001b[0;34m,\u001b[0m \u001b[0mNMC\u001b[0m\u001b[0;34m,\u001b[0m \u001b[0mnx\u001b[0m\u001b[0;34m,\u001b[0m \u001b[0mny\u001b[0m\u001b[0;34m,\u001b[0m \u001b[0malpha\u001b[0m\u001b[0;34m)\u001b[0m\u001b[0;34m\u001b[0m\u001b[0m\n\u001b[0m",
      "\u001b[0;32m<ipython-input-18-2259d863e444>\u001b[0m in \u001b[0;36mising_model_metropolis\u001b[0;34m(sp, sigma1, NMC, nx, ny, alpha)\u001b[0m\n\u001b[1;32m     19\u001b[0m     \"\"\"\n\u001b[1;32m     20\u001b[0m     \u001b[0mstates\u001b[0m \u001b[0;34m=\u001b[0m \u001b[0mnp\u001b[0m\u001b[0;34m.\u001b[0m\u001b[0mempty\u001b[0m\u001b[0;34m(\u001b[0m\u001b[0;34m[\u001b[0m\u001b[0mNMC\u001b[0m\u001b[0;34m+\u001b[0m\u001b[0;36m1\u001b[0m\u001b[0;34m,\u001b[0m\u001b[0mnx\u001b[0m\u001b[0;34m-\u001b[0m\u001b[0;36m1\u001b[0m\u001b[0;34m,\u001b[0m\u001b[0mny\u001b[0m\u001b[0;34m-\u001b[0m\u001b[0;36m1\u001b[0m\u001b[0;34m]\u001b[0m\u001b[0;34m)\u001b[0m\u001b[0;34m\u001b[0m\u001b[0m\n\u001b[0;32m---> 21\u001b[0;31m     \u001b[0mstates\u001b[0m\u001b[0;34m[\u001b[0m\u001b[0;36m0\u001b[0m\u001b[0;34m]\u001b[0m \u001b[0;34m=\u001b[0m \u001b[0msp\u001b[0m\u001b[0;34m.\u001b[0m\u001b[0mcopy\u001b[0m\u001b[0;34m(\u001b[0m\u001b[0;34m)\u001b[0m\u001b[0;34m\u001b[0m\u001b[0m\n\u001b[0m\u001b[1;32m     22\u001b[0m \u001b[0;34m\u001b[0m\u001b[0m\n\u001b[1;32m     23\u001b[0m     \u001b[0;32mfor\u001b[0m \u001b[0mi\u001b[0m \u001b[0;32min\u001b[0m \u001b[0mrange\u001b[0m\u001b[0;34m(\u001b[0m\u001b[0;36m1\u001b[0m\u001b[0;34m,\u001b[0m\u001b[0mNMC\u001b[0m\u001b[0;34m+\u001b[0m\u001b[0;36m1\u001b[0m\u001b[0;34m)\u001b[0m\u001b[0;34m:\u001b[0m\u001b[0;34m\u001b[0m\u001b[0m\n",
      "\u001b[0;31mValueError\u001b[0m: could not broadcast input array from shape (100,100) into shape (99,99)"
     ]
    }
   ],
   "source": [
    "energy_at_site(sp,alpha,sigma,sigma1,ix,iy)\n",
    "ising_model_metropolis(sp,sigma1, NMC, nx, ny, alpha)"
   ]
  },
  {
   "cell_type": "code",
   "execution_count": null,
   "metadata": {
    "collapsed": true
   },
   "outputs": [],
   "source": []
  }
 ],
 "metadata": {
  "kernelspec": {
   "display_name": "Python 3",
   "language": "python",
   "name": "python3"
  },
  "language_info": {
   "codemirror_mode": {
    "name": "ipython",
    "version": 3
   },
   "file_extension": ".py",
   "mimetype": "text/x-python",
   "name": "python",
   "nbconvert_exporter": "python",
   "pygments_lexer": "ipython3",
   "version": "3.6.3"
  }
 },
 "nbformat": 4,
 "nbformat_minor": 2
}
